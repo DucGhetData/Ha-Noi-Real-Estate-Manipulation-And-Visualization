{
 "cells": [
  {
   "cell_type": "markdown",
   "id": "0ebee6af",
   "metadata": {},
   "source": [
    "# EDA VÀ LÀM SẠCH DỮ LIỆU"
   ]
  },
  {
   "cell_type": "markdown",
   "id": "1c9711de",
   "metadata": {},
   "source": [
    "## 1. Mô tả dữ liệu\n",
    "- Bộ dữ liệu được sử dụng là \"Vietnam Housing Dataset (Hanoi)\" do anh Lê Anh Đức cung cấp trên nền tảng Kaggle(https://www.kaggle.com/datasets/ladcva/vietnam-housing-dataset-hanoi)\n",
    "- Bộ dữ liệu bao gồm tất các 12 thuộc tính cơ bản nhất của một bất động sản tại Việt Nam như sau:\n",
    "    - Ngày: Ngày đăng tin hoặc ngày thu thập dữ liệu của bất động sản.\n",
    "    - Địa chỉ: Địa chỉ chi tiết của bất động sản.\n",
    "    - Quận: Đơn vị hành chính cấp quận nơi bất động sản tọa lạc.\n",
    "    - Huyện: Đơn vị hành chính cấp huyện nơi bất động sản tọa lạc (thường là khu vực ngoại thành).\n",
    "    - Loại hình nhà ở: Phân loại hình thái của bất động sản (ví dụ: Nhà mặt phố, mặt tiền, Nhà ngõ, hẻm).\n",
    "    - Giấy tờ pháp lý: Tình trạng giấy tờ xác nhận quyền sở hữu hoặc sử dụng (ví dụ: Sổ đỏ/Sổ hồng, Hợp đồng mua bán).\n",
    "    - Số tầng: Tổng số tầng của công trình nhà ở.\n",
    "    - Số phòng ngủ: Tổng số lượng phòng ngủ trong bất động sản.\n",
    "    - Diện tích: Tổng diện tích của bất động sản, đơn vị tính là mét vuông (m²).\n",
    "    - Dài: Kích thước chiều dài của bất động sản, đơn vị tính là mét (m).\n",
    "    - Rộng: Kích thước chiều rộng của bất động sản, đơn vị tính là mét (m).\n",
    "    - Giá/m2: Đơn giá tham khảo trên một mét vuông, được tính bằng cách lấy tổng giá trị chia cho tổng diện tích.\n",
    "\n",
    "## 2. Làm sạch và tiền xử lý dữ liệu\n",
    "### 2.1. Import thư viện cần thiết và đọc file dữ liệu"
   ]
  },
  {
   "cell_type": "code",
   "execution_count": 42,
   "id": "651a4106",
   "metadata": {},
   "outputs": [],
   "source": [
    "import pandas as pd\n",
    "import numpy as np\n",
    "import matplotlib.pyplot as plt\n",
    "import seaborn as sns\n",
    "from unidecode import unidecode\n",
    "import re"
   ]
  },
  {
   "cell_type": "code",
   "execution_count": 43,
   "id": "74c1c609",
   "metadata": {},
   "outputs": [
    {
     "name": "stderr",
     "output_type": "stream",
     "text": [
      "<>:1: SyntaxWarning: invalid escape sequence '\\D'\n",
      "<>:1: SyntaxWarning: invalid escape sequence '\\D'\n",
      "C:\\Users\\ASUS\\AppData\\Local\\Temp\\ipykernel_12592\\1818841708.py:1: SyntaxWarning: invalid escape sequence '\\D'\n",
      "  df = pd.read_csv('F:\\Data Analyst\\Ha Noi Real Estate Visualization\\data\\VN_housing_dataset.csv')\n"
     ]
    },
    {
     "data": {
      "text/html": [
       "<div>\n",
       "<style scoped>\n",
       "    .dataframe tbody tr th:only-of-type {\n",
       "        vertical-align: middle;\n",
       "    }\n",
       "\n",
       "    .dataframe tbody tr th {\n",
       "        vertical-align: top;\n",
       "    }\n",
       "\n",
       "    .dataframe thead th {\n",
       "        text-align: right;\n",
       "    }\n",
       "</style>\n",
       "<table border=\"1\" class=\"dataframe\">\n",
       "  <thead>\n",
       "    <tr style=\"text-align: right;\">\n",
       "      <th></th>\n",
       "      <th>Unnamed: 0</th>\n",
       "      <th>Ngày</th>\n",
       "      <th>Địa chỉ</th>\n",
       "      <th>Quận</th>\n",
       "      <th>Huyện</th>\n",
       "      <th>Loại hình nhà ở</th>\n",
       "      <th>Giấy tờ pháp lý</th>\n",
       "      <th>Số tầng</th>\n",
       "      <th>Số phòng ngủ</th>\n",
       "      <th>Diện tích</th>\n",
       "      <th>Dài</th>\n",
       "      <th>Rộng</th>\n",
       "      <th>Giá/m2</th>\n",
       "    </tr>\n",
       "  </thead>\n",
       "  <tbody>\n",
       "    <tr>\n",
       "      <th>0</th>\n",
       "      <td>0.0</td>\n",
       "      <td>2020-08-05</td>\n",
       "      <td>Đường Hoàng Quốc Việt, Phường Nghĩa Đô, Quận C...</td>\n",
       "      <td>Quận Cầu Giấy</td>\n",
       "      <td>Phường Nghĩa Đô</td>\n",
       "      <td>Nhà ngõ, hẻm</td>\n",
       "      <td>Đã có sổ</td>\n",
       "      <td>4</td>\n",
       "      <td>5 phòng</td>\n",
       "      <td>46 m²</td>\n",
       "      <td>NaN</td>\n",
       "      <td>NaN</td>\n",
       "      <td>86,96 triệu/m²</td>\n",
       "    </tr>\n",
       "    <tr>\n",
       "      <th>1</th>\n",
       "      <td>1.0</td>\n",
       "      <td>2020-08-05</td>\n",
       "      <td>Đường Kim Giang, Phường Kim Giang, Quận Thanh ...</td>\n",
       "      <td>Quận Thanh Xuân</td>\n",
       "      <td>Phường Kim Giang</td>\n",
       "      <td>Nhà mặt phố, mặt tiền</td>\n",
       "      <td>NaN</td>\n",
       "      <td>NaN</td>\n",
       "      <td>3 phòng</td>\n",
       "      <td>37 m²</td>\n",
       "      <td>NaN</td>\n",
       "      <td>NaN</td>\n",
       "      <td>116,22 triệu/m²</td>\n",
       "    </tr>\n",
       "    <tr>\n",
       "      <th>2</th>\n",
       "      <td>2.0</td>\n",
       "      <td>2020-08-05</td>\n",
       "      <td>phố minh khai, Phường Minh Khai, Quận Hai Bà T...</td>\n",
       "      <td>Quận Hai Bà Trưng</td>\n",
       "      <td>Phường Minh Khai</td>\n",
       "      <td>Nhà ngõ, hẻm</td>\n",
       "      <td>Đã có sổ</td>\n",
       "      <td>4</td>\n",
       "      <td>4 phòng</td>\n",
       "      <td>40 m²</td>\n",
       "      <td>10 m</td>\n",
       "      <td>4 m</td>\n",
       "      <td>65 triệu/m²</td>\n",
       "    </tr>\n",
       "    <tr>\n",
       "      <th>3</th>\n",
       "      <td>3.0</td>\n",
       "      <td>2020-08-05</td>\n",
       "      <td>Đường Võng Thị, Phường Thụy Khuê, Quận Tây Hồ,...</td>\n",
       "      <td>Quận Tây Hồ</td>\n",
       "      <td>Phường Thụy Khuê</td>\n",
       "      <td>Nhà ngõ, hẻm</td>\n",
       "      <td>Đã có sổ</td>\n",
       "      <td>NaN</td>\n",
       "      <td>6 phòng</td>\n",
       "      <td>51 m²</td>\n",
       "      <td>12.75 m</td>\n",
       "      <td>4 m</td>\n",
       "      <td>100 triệu/m²</td>\n",
       "    </tr>\n",
       "    <tr>\n",
       "      <th>4</th>\n",
       "      <td>4.0</td>\n",
       "      <td>2020-08-05</td>\n",
       "      <td>Đường Kim Giang, Phường Kim Giang, Quận Thanh ...</td>\n",
       "      <td>Quận Thanh Xuân</td>\n",
       "      <td>Phường Kim Giang</td>\n",
       "      <td>Nhà ngõ, hẻm</td>\n",
       "      <td>NaN</td>\n",
       "      <td>NaN</td>\n",
       "      <td>4 phòng</td>\n",
       "      <td>36 m²</td>\n",
       "      <td>9 m</td>\n",
       "      <td>4 m</td>\n",
       "      <td>86,11 triệu/m²</td>\n",
       "    </tr>\n",
       "  </tbody>\n",
       "</table>\n",
       "</div>"
      ],
      "text/plain": [
       "   Unnamed: 0        Ngày                                            Địa chỉ  \\\n",
       "0         0.0  2020-08-05  Đường Hoàng Quốc Việt, Phường Nghĩa Đô, Quận C...   \n",
       "1         1.0  2020-08-05  Đường Kim Giang, Phường Kim Giang, Quận Thanh ...   \n",
       "2         2.0  2020-08-05  phố minh khai, Phường Minh Khai, Quận Hai Bà T...   \n",
       "3         3.0  2020-08-05  Đường Võng Thị, Phường Thụy Khuê, Quận Tây Hồ,...   \n",
       "4         4.0  2020-08-05  Đường Kim Giang, Phường Kim Giang, Quận Thanh ...   \n",
       "\n",
       "                Quận             Huyện        Loại hình nhà ở Giấy tờ pháp lý  \\\n",
       "0      Quận Cầu Giấy   Phường Nghĩa Đô           Nhà ngõ, hẻm        Đã có sổ   \n",
       "1    Quận Thanh Xuân  Phường Kim Giang  Nhà mặt phố, mặt tiền             NaN   \n",
       "2  Quận Hai Bà Trưng  Phường Minh Khai           Nhà ngõ, hẻm        Đã có sổ   \n",
       "3        Quận Tây Hồ  Phường Thụy Khuê           Nhà ngõ, hẻm        Đã có sổ   \n",
       "4    Quận Thanh Xuân  Phường Kim Giang           Nhà ngõ, hẻm             NaN   \n",
       "\n",
       "  Số tầng Số phòng ngủ Diện tích      Dài Rộng           Giá/m2  \n",
       "0       4      5 phòng     46 m²      NaN  NaN   86,96 triệu/m²  \n",
       "1     NaN      3 phòng     37 m²      NaN  NaN  116,22 triệu/m²  \n",
       "2       4      4 phòng     40 m²     10 m  4 m      65 triệu/m²  \n",
       "3     NaN      6 phòng     51 m²  12.75 m  4 m     100 triệu/m²  \n",
       "4     NaN      4 phòng     36 m²      9 m  4 m   86,11 triệu/m²  "
      ]
     },
     "execution_count": 43,
     "metadata": {},
     "output_type": "execute_result"
    }
   ],
   "source": [
    "df = pd.read_csv('F:\\Data Analyst\\Ha Noi Real Estate Visualization\\data\\VN_housing_dataset.csv')\n",
    "df.head()"
   ]
  },
  {
   "cell_type": "markdown",
   "id": "fcface8e",
   "metadata": {},
   "source": [
    "### 2.2. Xử lý tổng quát"
   ]
  },
  {
   "cell_type": "code",
   "execution_count": 44,
   "id": "91ab7c1d",
   "metadata": {},
   "outputs": [
    {
     "name": "stdout",
     "output_type": "stream",
     "text": [
      "<class 'pandas.core.frame.DataFrame'>\n",
      "RangeIndex: 82497 entries, 0 to 82496\n",
      "Data columns (total 13 columns):\n",
      " #   Column           Non-Null Count  Dtype  \n",
      "---  ------           --------------  -----  \n",
      " 0   Unnamed: 0       82496 non-null  float64\n",
      " 1   Ngày             82496 non-null  object \n",
      " 2   Địa chỉ          82449 non-null  object \n",
      " 3   Quận             82495 non-null  object \n",
      " 4   Huyện            82449 non-null  object \n",
      " 5   Loại hình nhà ở  82465 non-null  object \n",
      " 6   Giấy tờ pháp lý  53610 non-null  object \n",
      " 7   Số tầng          36399 non-null  object \n",
      " 8   Số phòng ngủ     82458 non-null  object \n",
      " 9   Diện tích        82495 non-null  object \n",
      " 10  Dài              19827 non-null  object \n",
      " 11  Rộng             35445 non-null  object \n",
      " 12  Giá/m2           82484 non-null  object \n",
      "dtypes: float64(1), object(12)\n",
      "memory usage: 8.2+ MB\n"
     ]
    }
   ],
   "source": [
    "df.info()"
   ]
  },
  {
   "cell_type": "code",
   "execution_count": 45,
   "id": "c09f5489",
   "metadata": {},
   "outputs": [],
   "source": [
    "# Xóa bỏ cột Unnamed: 0 không cần thiết\n",
    "df.drop(columns=['Unnamed: 0'], inplace=True)"
   ]
  },
  {
   "cell_type": "code",
   "execution_count": 46,
   "id": "bf9e5e14",
   "metadata": {},
   "outputs": [
    {
     "name": "stdout",
     "output_type": "stream",
     "text": [
      "815\n"
     ]
    }
   ],
   "source": [
    "# Kiểm tra các giá trị trùng lặp trong DataFrame\n",
    "print(df.duplicated().sum())"
   ]
  },
  {
   "cell_type": "code",
   "execution_count": 47,
   "id": "a4c4ab3a",
   "metadata": {},
   "outputs": [
    {
     "name": "stdout",
     "output_type": "stream",
     "text": [
      "Số hàng và số cột còn lại là: (81682, 12)\n"
     ]
    }
   ],
   "source": [
    "# Loại bỏ các hàng trùng lặp và xem số dòng còn lại\n",
    "df = df.drop_duplicates()\n",
    "df_rows = df.shape\n",
    "print('Số hàng và số cột còn lại là:',df.shape)"
   ]
  },
  {
   "cell_type": "code",
   "execution_count": 48,
   "id": "f42ef7b8",
   "metadata": {},
   "outputs": [
    {
     "name": "stdout",
     "output_type": "stream",
     "text": [
      "Ngày                0.001224\n",
      "Địa chỉ             0.058764\n",
      "Quận                0.002449\n",
      "Huyện               0.058764\n",
      "Loại hình nhà ở     0.039176\n",
      "Giấy tờ pháp lý    34.795916\n",
      "Số tầng            55.658529\n",
      "Số phòng ngủ        0.047746\n",
      "Diện tích           0.002449\n",
      "Dài                75.823315\n",
      "Rộng               56.787297\n",
      "Giá/m2              0.015915\n",
      "dtype: float64\n"
     ]
    }
   ],
   "source": [
    "# Kiểm tra các giá trị null ở mỗi một của DataFrame\n",
    "print(df.isnull().sum()/len(df) * 100)"
   ]
  },
  {
   "cell_type": "code",
   "execution_count": 49,
   "id": "e38b8e84",
   "metadata": {},
   "outputs": [
    {
     "data": {
      "text/plain": [
       "Ngày                0.000000\n",
       "Địa chỉ             0.026944\n",
       "Quận                0.001225\n",
       "Huyện               0.023269\n",
       "Loại hình nhà ở     0.033067\n",
       "Giấy tờ pháp lý    34.771959\n",
       "Số tầng            55.642238\n",
       "Số phòng ngủ        0.045314\n",
       "Diện tích           0.001225\n",
       "Dài                75.814432\n",
       "Rộng               56.771420\n",
       "Giá/m2              0.014697\n",
       "dtype: float64"
      ]
     },
     "execution_count": 49,
     "metadata": {},
     "output_type": "execute_result"
    }
   ],
   "source": [
    "# Loại bỏ các dòng có 5 cột null trở lên\n",
    "df.dropna(thresh=df.shape[1] - 5, inplace=True)\n",
    "df.isnull().sum()/len(df)*100"
   ]
  },
  {
   "cell_type": "code",
   "execution_count": 50,
   "id": "d3c8a047",
   "metadata": {},
   "outputs": [
    {
     "data": {
      "text/plain": [
       "12"
      ]
     },
     "execution_count": 50,
     "metadata": {},
     "output_type": "execute_result"
    }
   ],
   "source": [
    "# Kiểm tra cột giá nhà \n",
    "df[df[\"Giá/m2\"].isnull()].shape[0]"
   ]
  },
  {
   "cell_type": "code",
   "execution_count": 51,
   "id": "1f740cb9",
   "metadata": {},
   "outputs": [],
   "source": [
    "# Loại bỏ 12 dòng null do ta không tìm được dữ liệu bổ sung\n",
    "df.dropna(subset=['Giá/m2'],inplace=True)"
   ]
  },
  {
   "cell_type": "code",
   "execution_count": 52,
   "id": "31e7d3c2",
   "metadata": {},
   "outputs": [
    {
     "data": {
      "text/html": [
       "<div>\n",
       "<style scoped>\n",
       "    .dataframe tbody tr th:only-of-type {\n",
       "        vertical-align: middle;\n",
       "    }\n",
       "\n",
       "    .dataframe tbody tr th {\n",
       "        vertical-align: top;\n",
       "    }\n",
       "\n",
       "    .dataframe thead th {\n",
       "        text-align: right;\n",
       "    }\n",
       "</style>\n",
       "<table border=\"1\" class=\"dataframe\">\n",
       "  <thead>\n",
       "    <tr style=\"text-align: right;\">\n",
       "      <th></th>\n",
       "      <th>Ngày</th>\n",
       "      <th>Địa chỉ</th>\n",
       "      <th>Quận</th>\n",
       "      <th>Huyện</th>\n",
       "      <th>Loại hình nhà ở</th>\n",
       "      <th>Giấy tờ pháp lý</th>\n",
       "      <th>Số tầng</th>\n",
       "      <th>Số phòng ngủ</th>\n",
       "      <th>Diện tích</th>\n",
       "      <th>Dài</th>\n",
       "      <th>Rộng</th>\n",
       "      <th>Giá/m2</th>\n",
       "    </tr>\n",
       "  </thead>\n",
       "  <tbody>\n",
       "    <tr>\n",
       "      <th>48418</th>\n",
       "      <td>2020-07-03</td>\n",
       "      <td>68, Ngọc Hồi, Hà Nội</td>\n",
       "      <td>NaN</td>\n",
       "      <td>NaN</td>\n",
       "      <td>Nhà ngõ, hẻm</td>\n",
       "      <td>Đã có sổ</td>\n",
       "      <td>NaN</td>\n",
       "      <td>2 phòng</td>\n",
       "      <td>71 m²</td>\n",
       "      <td>6 m</td>\n",
       "      <td>6 m</td>\n",
       "      <td>43 triệu/m²</td>\n",
       "    </tr>\n",
       "  </tbody>\n",
       "</table>\n",
       "</div>"
      ],
      "text/plain": [
       "             Ngày               Địa chỉ Quận Huyện Loại hình nhà ở  \\\n",
       "48418  2020-07-03  68, Ngọc Hồi, Hà Nội  NaN   NaN    Nhà ngõ, hẻm   \n",
       "\n",
       "      Giấy tờ pháp lý Số tầng Số phòng ngủ Diện tích  Dài Rộng       Giá/m2  \n",
       "48418        Đã có sổ     NaN      2 phòng     71 m²  6 m  6 m  43 triệu/m²  "
      ]
     },
     "execution_count": 52,
     "metadata": {},
     "output_type": "execute_result"
    }
   ],
   "source": [
    "# Kiểm tra cột \"Quận\"\n",
    "df[df[\"Quận\"].isnull()]"
   ]
  },
  {
   "cell_type": "code",
   "execution_count": 53,
   "id": "472a6f78",
   "metadata": {},
   "outputs": [
    {
     "name": "stdout",
     "output_type": "stream",
     "text": [
      "Ngày                         2020-07-03\n",
      "Địa chỉ            68, Ngọc Hồi, Hà Nội\n",
      "Quận                          Thanh Trì\n",
      "Huyện                          Ngọc Hồi\n",
      "Loại hình nhà ở            Nhà ngõ, hẻm\n",
      "Giấy tờ pháp lý                Đã có sổ\n",
      "Số tầng                             NaN\n",
      "Số phòng ngủ                    2 phòng\n",
      "Diện tích                         71 m²\n",
      "Dài                                 6 m\n",
      "Rộng                                6 m\n",
      "Giá/m2                      43 triệu/m²\n",
      "Name: 48418, dtype: object\n"
     ]
    }
   ],
   "source": [
    "# FIll dữ liệu từ cột địa chỉ\n",
    "df.loc[48418,'Quận'] = 'Thanh Trì'\n",
    "df.loc[48418,'Huyện'] = 'Ngọc Hồi'\n",
    "print(df.loc[48418])"
   ]
  },
  {
   "cell_type": "code",
   "execution_count": 54,
   "id": "eb842c50",
   "metadata": {},
   "outputs": [
    {
     "data": {
      "text/html": [
       "<div>\n",
       "<style scoped>\n",
       "    .dataframe tbody tr th:only-of-type {\n",
       "        vertical-align: middle;\n",
       "    }\n",
       "\n",
       "    .dataframe tbody tr th {\n",
       "        vertical-align: top;\n",
       "    }\n",
       "\n",
       "    .dataframe thead th {\n",
       "        text-align: right;\n",
       "    }\n",
       "</style>\n",
       "<table border=\"1\" class=\"dataframe\">\n",
       "  <thead>\n",
       "    <tr style=\"text-align: right;\">\n",
       "      <th></th>\n",
       "      <th>Ngày</th>\n",
       "      <th>Địa chỉ</th>\n",
       "      <th>Quận</th>\n",
       "      <th>Huyện</th>\n",
       "      <th>Loại hình nhà ở</th>\n",
       "      <th>Giấy tờ pháp lý</th>\n",
       "      <th>Số tầng</th>\n",
       "      <th>Số phòng ngủ</th>\n",
       "      <th>Diện tích</th>\n",
       "      <th>Dài</th>\n",
       "      <th>Rộng</th>\n",
       "      <th>Giá/m2</th>\n",
       "    </tr>\n",
       "  </thead>\n",
       "  <tbody>\n",
       "    <tr>\n",
       "      <th>324</th>\n",
       "      <td>2020-08-04</td>\n",
       "      <td>Đường An Dương Vương, Quận Tây Hồ, Hà Nội</td>\n",
       "      <td>Quận Tây Hồ</td>\n",
       "      <td>NaN</td>\n",
       "      <td>Nhà ngõ, hẻm</td>\n",
       "      <td>Đã có sổ</td>\n",
       "      <td>4</td>\n",
       "      <td>4 phòng</td>\n",
       "      <td>77 m²</td>\n",
       "      <td>11 m</td>\n",
       "      <td>7 m</td>\n",
       "      <td>97,4 triệu/m²</td>\n",
       "    </tr>\n",
       "    <tr>\n",
       "      <th>741</th>\n",
       "      <td>2020-08-04</td>\n",
       "      <td>Cầu Khê Tang, Quận Hà Đông, Hà Nội</td>\n",
       "      <td>Quận Hà Đông</td>\n",
       "      <td>NaN</td>\n",
       "      <td>Nhà ngõ, hẻm</td>\n",
       "      <td>NaN</td>\n",
       "      <td>NaN</td>\n",
       "      <td>3 phòng</td>\n",
       "      <td>36 m²</td>\n",
       "      <td>NaN</td>\n",
       "      <td>NaN</td>\n",
       "      <td>43,06 triệu/m²</td>\n",
       "    </tr>\n",
       "    <tr>\n",
       "      <th>8584</th>\n",
       "      <td>2020-07-31</td>\n",
       "      <td>NaN</td>\n",
       "      <td>Quận Thanh Xuân</td>\n",
       "      <td>NaN</td>\n",
       "      <td>Nhà ngõ, hẻm</td>\n",
       "      <td>Đã có sổ</td>\n",
       "      <td>5</td>\n",
       "      <td>4 phòng</td>\n",
       "      <td>33 m²</td>\n",
       "      <td>NaN</td>\n",
       "      <td>4.1 m</td>\n",
       "      <td>90,91 triệu/m²</td>\n",
       "    </tr>\n",
       "    <tr>\n",
       "      <th>29300</th>\n",
       "      <td>2020-07-18</td>\n",
       "      <td>Đường Cầu Giấy, Quận Cầu Giấy, Hà Nội</td>\n",
       "      <td>Quận Cầu Giấy</td>\n",
       "      <td>NaN</td>\n",
       "      <td>Nhà ngõ, hẻm</td>\n",
       "      <td>Đã có sổ</td>\n",
       "      <td>4</td>\n",
       "      <td>3 phòng</td>\n",
       "      <td>24 m²</td>\n",
       "      <td>NaN</td>\n",
       "      <td>NaN</td>\n",
       "      <td>129,17 triệu/m²</td>\n",
       "    </tr>\n",
       "    <tr>\n",
       "      <th>35553</th>\n",
       "      <td>2020-07-14</td>\n",
       "      <td>Đường Thịnh Hào 3, Quận Đống Đa, Hà Nội</td>\n",
       "      <td>Quận Đống Đa</td>\n",
       "      <td>NaN</td>\n",
       "      <td>Nhà ngõ, hẻm</td>\n",
       "      <td>Đã có sổ</td>\n",
       "      <td>NaN</td>\n",
       "      <td>6 phòng</td>\n",
       "      <td>36 m²</td>\n",
       "      <td>NaN</td>\n",
       "      <td>NaN</td>\n",
       "      <td>100 triệu/m²</td>\n",
       "    </tr>\n",
       "    <tr>\n",
       "      <th>40906</th>\n",
       "      <td>2020-07-09</td>\n",
       "      <td>Đường Kim Giang, Quận Thanh Xuân, Hà Nội</td>\n",
       "      <td>Quận Thanh Xuân</td>\n",
       "      <td>NaN</td>\n",
       "      <td>Nhà mặt phố, mặt tiền</td>\n",
       "      <td>NaN</td>\n",
       "      <td>NaN</td>\n",
       "      <td>4 phòng</td>\n",
       "      <td>40 m²</td>\n",
       "      <td>NaN</td>\n",
       "      <td>NaN</td>\n",
       "      <td>82,5 triệu/m²</td>\n",
       "    </tr>\n",
       "    <tr>\n",
       "      <th>46176</th>\n",
       "      <td>2020-07-06</td>\n",
       "      <td>Đường Cầu Giấy, Quận Cầu Giấy, Hà Nội</td>\n",
       "      <td>Quận Cầu Giấy</td>\n",
       "      <td>NaN</td>\n",
       "      <td>Nhà ngõ, hẻm</td>\n",
       "      <td>NaN</td>\n",
       "      <td>NaN</td>\n",
       "      <td>4 phòng</td>\n",
       "      <td>50 m²</td>\n",
       "      <td>NaN</td>\n",
       "      <td>NaN</td>\n",
       "      <td>80 triệu/m²</td>\n",
       "    </tr>\n",
       "    <tr>\n",
       "      <th>54426</th>\n",
       "      <td>2020-06-29</td>\n",
       "      <td>Đường Trần Duy Hưng, Quận Cầu Giấy, Hà Nội</td>\n",
       "      <td>Quận Cầu Giấy</td>\n",
       "      <td>NaN</td>\n",
       "      <td>Nhà ngõ, hẻm</td>\n",
       "      <td>Đã có sổ</td>\n",
       "      <td>5</td>\n",
       "      <td>4 phòng</td>\n",
       "      <td>40 m²</td>\n",
       "      <td>NaN</td>\n",
       "      <td>NaN</td>\n",
       "      <td>140 triệu/m²</td>\n",
       "    </tr>\n",
       "    <tr>\n",
       "      <th>58641</th>\n",
       "      <td>2020-06-25</td>\n",
       "      <td>Đường Bùi Xương Trạch, Quận Thanh Xuân, Hà Nội</td>\n",
       "      <td>Quận Thanh Xuân</td>\n",
       "      <td>NaN</td>\n",
       "      <td>Nhà ngõ, hẻm</td>\n",
       "      <td>NaN</td>\n",
       "      <td>NaN</td>\n",
       "      <td>3 phòng</td>\n",
       "      <td>31 m²</td>\n",
       "      <td>NaN</td>\n",
       "      <td>NaN</td>\n",
       "      <td>116,13 triệu/m²</td>\n",
       "    </tr>\n",
       "    <tr>\n",
       "      <th>61781</th>\n",
       "      <td>2020-06-23</td>\n",
       "      <td>Đường Tôn Thất Tùng, Quận Đống Đa, Hà Nội</td>\n",
       "      <td>Quận Đống Đa</td>\n",
       "      <td>NaN</td>\n",
       "      <td>Nhà ngõ, hẻm</td>\n",
       "      <td>NaN</td>\n",
       "      <td>NaN</td>\n",
       "      <td>3 phòng</td>\n",
       "      <td>37 m²</td>\n",
       "      <td>NaN</td>\n",
       "      <td>NaN</td>\n",
       "      <td>110,81 triệu/m²</td>\n",
       "    </tr>\n",
       "    <tr>\n",
       "      <th>62059</th>\n",
       "      <td>2020-06-22</td>\n",
       "      <td>Đường Hồ Tùng Mậu||821, Quận Cầu Giấy, Hà Nội</td>\n",
       "      <td>Quận Cầu Giấy</td>\n",
       "      <td>NaN</td>\n",
       "      <td>Nhà ngõ, hẻm</td>\n",
       "      <td>Đã có sổ</td>\n",
       "      <td>5</td>\n",
       "      <td>4 phòng</td>\n",
       "      <td>33 m²</td>\n",
       "      <td>10 m</td>\n",
       "      <td>4 m</td>\n",
       "      <td>96,97 triệu/m²</td>\n",
       "    </tr>\n",
       "    <tr>\n",
       "      <th>69475</th>\n",
       "      <td>2020-06-17</td>\n",
       "      <td>Đường Hào Nam, Quận Đống Đa, Hà Nội</td>\n",
       "      <td>Quận Đống Đa</td>\n",
       "      <td>NaN</td>\n",
       "      <td>Nhà ngõ, hẻm</td>\n",
       "      <td>Đã có sổ</td>\n",
       "      <td>NaN</td>\n",
       "      <td>3 phòng</td>\n",
       "      <td>35 m²</td>\n",
       "      <td>NaN</td>\n",
       "      <td>NaN</td>\n",
       "      <td>91,43 triệu/m²</td>\n",
       "    </tr>\n",
       "    <tr>\n",
       "      <th>70520</th>\n",
       "      <td>2020-06-16</td>\n",
       "      <td>Đường Ngọc Lâm, Quận Ba Đình, Hà Nội</td>\n",
       "      <td>Quận Ba Đình</td>\n",
       "      <td>NaN</td>\n",
       "      <td>Nhà mặt phố, mặt tiền</td>\n",
       "      <td>Đã có sổ</td>\n",
       "      <td>NaN</td>\n",
       "      <td>4 phòng</td>\n",
       "      <td>51 m²</td>\n",
       "      <td>NaN</td>\n",
       "      <td>NaN</td>\n",
       "      <td>94,12 triệu/m²</td>\n",
       "    </tr>\n",
       "    <tr>\n",
       "      <th>72730</th>\n",
       "      <td>2020-06-14</td>\n",
       "      <td>665, Đường Tân Mai, Quận Hoàng Mai, Hà Nội</td>\n",
       "      <td>Quận Hoàng Mai</td>\n",
       "      <td>NaN</td>\n",
       "      <td>Nhà ngõ, hẻm</td>\n",
       "      <td>NaN</td>\n",
       "      <td>NaN</td>\n",
       "      <td>6 phòng</td>\n",
       "      <td>45 m²</td>\n",
       "      <td>NaN</td>\n",
       "      <td>NaN</td>\n",
       "      <td>74,44 triệu/m²</td>\n",
       "    </tr>\n",
       "    <tr>\n",
       "      <th>73921</th>\n",
       "      <td>2020-06-12</td>\n",
       "      <td>Đường Lạc Long Quân, Quận Tây Hồ, Hà Nội</td>\n",
       "      <td>Quận Tây Hồ</td>\n",
       "      <td>NaN</td>\n",
       "      <td>Nhà mặt phố, mặt tiền</td>\n",
       "      <td>NaN</td>\n",
       "      <td>NaN</td>\n",
       "      <td>1 phòng</td>\n",
       "      <td>200 m²</td>\n",
       "      <td>NaN</td>\n",
       "      <td>NaN</td>\n",
       "      <td>128 triệu/m²</td>\n",
       "    </tr>\n",
       "    <tr>\n",
       "      <th>78779</th>\n",
       "      <td>2020-06-09</td>\n",
       "      <td>Đường Hoàng Mai, Quận Hoàng Mai, Hà Nội</td>\n",
       "      <td>Quận Hoàng Mai</td>\n",
       "      <td>NaN</td>\n",
       "      <td>Nhà ngõ, hẻm</td>\n",
       "      <td>NaN</td>\n",
       "      <td>NaN</td>\n",
       "      <td>5 phòng</td>\n",
       "      <td>48 m²</td>\n",
       "      <td>NaN</td>\n",
       "      <td>NaN</td>\n",
       "      <td>76,04 triệu/m²</td>\n",
       "    </tr>\n",
       "    <tr>\n",
       "      <th>79996</th>\n",
       "      <td>2020-06-08</td>\n",
       "      <td>Đường Hoàng Văn Thái, Quận Thanh Xuân, Hà Nội</td>\n",
       "      <td>Quận Thanh Xuân</td>\n",
       "      <td>NaN</td>\n",
       "      <td>Nhà mặt phố, mặt tiền</td>\n",
       "      <td>NaN</td>\n",
       "      <td>NaN</td>\n",
       "      <td>4 phòng</td>\n",
       "      <td>45 m²</td>\n",
       "      <td>NaN</td>\n",
       "      <td>NaN</td>\n",
       "      <td>116,67 triệu/m²</td>\n",
       "    </tr>\n",
       "    <tr>\n",
       "      <th>81032</th>\n",
       "      <td>2020-06-07</td>\n",
       "      <td>Đường Chợ Khâm Thiên, Quận Đống Đa, Hà Nội</td>\n",
       "      <td>Quận Đống Đa</td>\n",
       "      <td>NaN</td>\n",
       "      <td>Nhà ngõ, hẻm</td>\n",
       "      <td>Đã có sổ</td>\n",
       "      <td>3</td>\n",
       "      <td>3 phòng</td>\n",
       "      <td>42 m²</td>\n",
       "      <td>NaN</td>\n",
       "      <td>45 m</td>\n",
       "      <td>58,33 triệu/m²</td>\n",
       "    </tr>\n",
       "  </tbody>\n",
       "</table>\n",
       "</div>"
      ],
      "text/plain": [
       "             Ngày                                         Địa chỉ  \\\n",
       "324    2020-08-04       Đường An Dương Vương, Quận Tây Hồ, Hà Nội   \n",
       "741    2020-08-04              Cầu Khê Tang, Quận Hà Đông, Hà Nội   \n",
       "8584   2020-07-31                                             NaN   \n",
       "29300  2020-07-18           Đường Cầu Giấy, Quận Cầu Giấy, Hà Nội   \n",
       "35553  2020-07-14         Đường Thịnh Hào 3, Quận Đống Đa, Hà Nội   \n",
       "40906  2020-07-09        Đường Kim Giang, Quận Thanh Xuân, Hà Nội   \n",
       "46176  2020-07-06           Đường Cầu Giấy, Quận Cầu Giấy, Hà Nội   \n",
       "54426  2020-06-29      Đường Trần Duy Hưng, Quận Cầu Giấy, Hà Nội   \n",
       "58641  2020-06-25  Đường Bùi Xương Trạch, Quận Thanh Xuân, Hà Nội   \n",
       "61781  2020-06-23       Đường Tôn Thất Tùng, Quận Đống Đa, Hà Nội   \n",
       "62059  2020-06-22   Đường Hồ Tùng Mậu||821, Quận Cầu Giấy, Hà Nội   \n",
       "69475  2020-06-17             Đường Hào Nam, Quận Đống Đa, Hà Nội   \n",
       "70520  2020-06-16            Đường Ngọc Lâm, Quận Ba Đình, Hà Nội   \n",
       "72730  2020-06-14      665, Đường Tân Mai, Quận Hoàng Mai, Hà Nội   \n",
       "73921  2020-06-12        Đường Lạc Long Quân, Quận Tây Hồ, Hà Nội   \n",
       "78779  2020-06-09         Đường Hoàng Mai, Quận Hoàng Mai, Hà Nội   \n",
       "79996  2020-06-08   Đường Hoàng Văn Thái, Quận Thanh Xuân, Hà Nội   \n",
       "81032  2020-06-07      Đường Chợ Khâm Thiên, Quận Đống Đa, Hà Nội   \n",
       "\n",
       "                  Quận Huyện        Loại hình nhà ở Giấy tờ pháp lý Số tầng  \\\n",
       "324        Quận Tây Hồ   NaN           Nhà ngõ, hẻm        Đã có sổ       4   \n",
       "741       Quận Hà Đông   NaN           Nhà ngõ, hẻm             NaN     NaN   \n",
       "8584   Quận Thanh Xuân   NaN           Nhà ngõ, hẻm        Đã có sổ       5   \n",
       "29300    Quận Cầu Giấy   NaN           Nhà ngõ, hẻm        Đã có sổ       4   \n",
       "35553     Quận Đống Đa   NaN           Nhà ngõ, hẻm        Đã có sổ     NaN   \n",
       "40906  Quận Thanh Xuân   NaN  Nhà mặt phố, mặt tiền             NaN     NaN   \n",
       "46176    Quận Cầu Giấy   NaN           Nhà ngõ, hẻm             NaN     NaN   \n",
       "54426    Quận Cầu Giấy   NaN           Nhà ngõ, hẻm        Đã có sổ       5   \n",
       "58641  Quận Thanh Xuân   NaN           Nhà ngõ, hẻm             NaN     NaN   \n",
       "61781     Quận Đống Đa   NaN           Nhà ngõ, hẻm             NaN     NaN   \n",
       "62059    Quận Cầu Giấy   NaN           Nhà ngõ, hẻm        Đã có sổ       5   \n",
       "69475     Quận Đống Đa   NaN           Nhà ngõ, hẻm        Đã có sổ     NaN   \n",
       "70520     Quận Ba Đình   NaN  Nhà mặt phố, mặt tiền        Đã có sổ     NaN   \n",
       "72730   Quận Hoàng Mai   NaN           Nhà ngõ, hẻm             NaN     NaN   \n",
       "73921      Quận Tây Hồ   NaN  Nhà mặt phố, mặt tiền             NaN     NaN   \n",
       "78779   Quận Hoàng Mai   NaN           Nhà ngõ, hẻm             NaN     NaN   \n",
       "79996  Quận Thanh Xuân   NaN  Nhà mặt phố, mặt tiền             NaN     NaN   \n",
       "81032     Quận Đống Đa   NaN           Nhà ngõ, hẻm        Đã có sổ       3   \n",
       "\n",
       "      Số phòng ngủ Diện tích   Dài   Rộng           Giá/m2  \n",
       "324        4 phòng     77 m²  11 m    7 m    97,4 triệu/m²  \n",
       "741        3 phòng     36 m²   NaN    NaN   43,06 triệu/m²  \n",
       "8584       4 phòng     33 m²   NaN  4.1 m   90,91 triệu/m²  \n",
       "29300      3 phòng     24 m²   NaN    NaN  129,17 triệu/m²  \n",
       "35553      6 phòng     36 m²   NaN    NaN     100 triệu/m²  \n",
       "40906      4 phòng     40 m²   NaN    NaN    82,5 triệu/m²  \n",
       "46176      4 phòng     50 m²   NaN    NaN      80 triệu/m²  \n",
       "54426      4 phòng     40 m²   NaN    NaN     140 triệu/m²  \n",
       "58641      3 phòng     31 m²   NaN    NaN  116,13 triệu/m²  \n",
       "61781      3 phòng     37 m²   NaN    NaN  110,81 triệu/m²  \n",
       "62059      4 phòng     33 m²  10 m    4 m   96,97 triệu/m²  \n",
       "69475      3 phòng     35 m²   NaN    NaN   91,43 triệu/m²  \n",
       "70520      4 phòng     51 m²   NaN    NaN   94,12 triệu/m²  \n",
       "72730      6 phòng     45 m²   NaN    NaN   74,44 triệu/m²  \n",
       "73921      1 phòng    200 m²   NaN    NaN     128 triệu/m²  \n",
       "78779      5 phòng     48 m²   NaN    NaN   76,04 triệu/m²  \n",
       "79996      4 phòng     45 m²   NaN    NaN  116,67 triệu/m²  \n",
       "81032      3 phòng     42 m²   NaN   45 m   58,33 triệu/m²  "
      ]
     },
     "execution_count": 54,
     "metadata": {},
     "output_type": "execute_result"
    }
   ],
   "source": [
    "# Kiểm tra cột \"Huyện\"\n",
    "df[df['Huyện'].isnull()]"
   ]
  },
  {
   "cell_type": "code",
   "execution_count": 55,
   "id": "ff1e70f4",
   "metadata": {},
   "outputs": [
    {
     "name": "stderr",
     "output_type": "stream",
     "text": [
      "C:\\Users\\ASUS\\AppData\\Local\\Temp\\ipykernel_12592\\900650199.py:1: FutureWarning: A value is trying to be set on a copy of a DataFrame or Series through chained assignment using an inplace method.\n",
      "The behavior will change in pandas 3.0. This inplace method will never work because the intermediate object on which we are setting values always behaves as a copy.\n",
      "\n",
      "For example, when doing 'df[col].method(value, inplace=True)', try using 'df.method({col: value}, inplace=True)' or df[col] = df[col].method(value) instead, to perform the operation inplace on the original object.\n",
      "\n",
      "\n",
      "  df['Huyện'].fillna(df['Quận'], inplace=True)\n"
     ]
    }
   ],
   "source": [
    "df['Huyện'].fillna(df['Quận'], inplace=True)"
   ]
  },
  {
   "cell_type": "code",
   "execution_count": 56,
   "id": "af727de8",
   "metadata": {},
   "outputs": [],
   "source": [
    "# Thêm cột \"Tỉnh/Thành phố\"\n",
    "df['Tỉnh/Thành phố'] = 'Hà Nội'"
   ]
  },
  {
   "cell_type": "code",
   "execution_count": 57,
   "id": "9226ac2d",
   "metadata": {},
   "outputs": [
    {
     "data": {
      "text/html": [
       "<div>\n",
       "<style scoped>\n",
       "    .dataframe tbody tr th:only-of-type {\n",
       "        vertical-align: middle;\n",
       "    }\n",
       "\n",
       "    .dataframe tbody tr th {\n",
       "        vertical-align: top;\n",
       "    }\n",
       "\n",
       "    .dataframe thead th {\n",
       "        text-align: right;\n",
       "    }\n",
       "</style>\n",
       "<table border=\"1\" class=\"dataframe\">\n",
       "  <thead>\n",
       "    <tr style=\"text-align: right;\">\n",
       "      <th></th>\n",
       "      <th>Ngày</th>\n",
       "      <th>Địa chỉ</th>\n",
       "      <th>Quận</th>\n",
       "      <th>Huyện</th>\n",
       "      <th>Loại hình nhà ở</th>\n",
       "      <th>Giấy tờ pháp lý</th>\n",
       "      <th>Số tầng</th>\n",
       "      <th>Số phòng ngủ</th>\n",
       "      <th>Diện tích</th>\n",
       "      <th>Dài</th>\n",
       "      <th>Rộng</th>\n",
       "      <th>Giá/m2</th>\n",
       "      <th>Tỉnh/Thành phố</th>\n",
       "    </tr>\n",
       "  </thead>\n",
       "  <tbody>\n",
       "    <tr>\n",
       "      <th>3397</th>\n",
       "      <td>2020-08-03</td>\n",
       "      <td>NaN</td>\n",
       "      <td>Quận Thanh Xuân</td>\n",
       "      <td>Phường Thượng Đình</td>\n",
       "      <td>Nhà ngõ, hẻm</td>\n",
       "      <td>NaN</td>\n",
       "      <td>NaN</td>\n",
       "      <td>3 phòng</td>\n",
       "      <td>40 m²</td>\n",
       "      <td>NaN</td>\n",
       "      <td>NaN</td>\n",
       "      <td>68,75 triệu/m²</td>\n",
       "      <td>Hà Nội</td>\n",
       "    </tr>\n",
       "    <tr>\n",
       "      <th>8584</th>\n",
       "      <td>2020-07-31</td>\n",
       "      <td>NaN</td>\n",
       "      <td>Quận Thanh Xuân</td>\n",
       "      <td>Quận Thanh Xuân</td>\n",
       "      <td>Nhà ngõ, hẻm</td>\n",
       "      <td>Đã có sổ</td>\n",
       "      <td>5</td>\n",
       "      <td>4 phòng</td>\n",
       "      <td>33 m²</td>\n",
       "      <td>NaN</td>\n",
       "      <td>4.1 m</td>\n",
       "      <td>90,91 triệu/m²</td>\n",
       "      <td>Hà Nội</td>\n",
       "    </tr>\n",
       "    <tr>\n",
       "      <th>8926</th>\n",
       "      <td>2020-07-31</td>\n",
       "      <td>NaN</td>\n",
       "      <td>Quận Hoàng Mai</td>\n",
       "      <td>Phường Lĩnh Nam</td>\n",
       "      <td>Nhà ngõ, hẻm</td>\n",
       "      <td>NaN</td>\n",
       "      <td>NaN</td>\n",
       "      <td>3 phòng</td>\n",
       "      <td>30 m²</td>\n",
       "      <td>NaN</td>\n",
       "      <td>NaN</td>\n",
       "      <td>70 triệu/m²</td>\n",
       "      <td>Hà Nội</td>\n",
       "    </tr>\n",
       "    <tr>\n",
       "      <th>9101</th>\n",
       "      <td>2020-07-31</td>\n",
       "      <td>NaN</td>\n",
       "      <td>Quận Bắc Từ Liêm</td>\n",
       "      <td>Phường Thụy Phương</td>\n",
       "      <td>Nhà ngõ, hẻm</td>\n",
       "      <td>NaN</td>\n",
       "      <td>NaN</td>\n",
       "      <td>2 phòng</td>\n",
       "      <td>40 m²</td>\n",
       "      <td>NaN</td>\n",
       "      <td>NaN</td>\n",
       "      <td>20 triệu/m²</td>\n",
       "      <td>Hà Nội</td>\n",
       "    </tr>\n",
       "    <tr>\n",
       "      <th>9105</th>\n",
       "      <td>2020-07-31</td>\n",
       "      <td>NaN</td>\n",
       "      <td>Quận Thanh Xuân</td>\n",
       "      <td>Phường Kim Giang</td>\n",
       "      <td>Nhà ngõ, hẻm</td>\n",
       "      <td>NaN</td>\n",
       "      <td>NaN</td>\n",
       "      <td>4 phòng</td>\n",
       "      <td>50 m²</td>\n",
       "      <td>NaN</td>\n",
       "      <td>NaN</td>\n",
       "      <td>68 triệu/m²</td>\n",
       "      <td>Hà Nội</td>\n",
       "    </tr>\n",
       "    <tr>\n",
       "      <th>11029</th>\n",
       "      <td>2020-07-30</td>\n",
       "      <td>NaN</td>\n",
       "      <td>Quận Hoàng Mai</td>\n",
       "      <td>Phường Vĩnh Hưng</td>\n",
       "      <td>Nhà ngõ, hẻm</td>\n",
       "      <td>NaN</td>\n",
       "      <td>NaN</td>\n",
       "      <td>2 phòng</td>\n",
       "      <td>20 m²</td>\n",
       "      <td>NaN</td>\n",
       "      <td>NaN</td>\n",
       "      <td>65 triệu/m²</td>\n",
       "      <td>Hà Nội</td>\n",
       "    </tr>\n",
       "    <tr>\n",
       "      <th>11677</th>\n",
       "      <td>2020-07-29</td>\n",
       "      <td>NaN</td>\n",
       "      <td>Quận Hà Đông</td>\n",
       "      <td>Phường Văn Quán</td>\n",
       "      <td>Nhà ngõ, hẻm</td>\n",
       "      <td>NaN</td>\n",
       "      <td>NaN</td>\n",
       "      <td>4 phòng</td>\n",
       "      <td>35 m²</td>\n",
       "      <td>NaN</td>\n",
       "      <td>NaN</td>\n",
       "      <td>81,43 triệu/m²</td>\n",
       "      <td>Hà Nội</td>\n",
       "    </tr>\n",
       "    <tr>\n",
       "      <th>15369</th>\n",
       "      <td>2020-07-27</td>\n",
       "      <td>NaN</td>\n",
       "      <td>Quận Cầu Giấy</td>\n",
       "      <td>Phường Trung Hoà</td>\n",
       "      <td>Nhà phố liền kề</td>\n",
       "      <td>NaN</td>\n",
       "      <td>NaN</td>\n",
       "      <td>3 phòng</td>\n",
       "      <td>35 m²</td>\n",
       "      <td>NaN</td>\n",
       "      <td>NaN</td>\n",
       "      <td>1 đ/m²</td>\n",
       "      <td>Hà Nội</td>\n",
       "    </tr>\n",
       "    <tr>\n",
       "      <th>17349</th>\n",
       "      <td>2020-07-26</td>\n",
       "      <td>NaN</td>\n",
       "      <td>Quận Hoàng Mai</td>\n",
       "      <td>Phường Thịnh Liệt</td>\n",
       "      <td>Nhà mặt phố, mặt tiền</td>\n",
       "      <td>NaN</td>\n",
       "      <td>NaN</td>\n",
       "      <td>3 phòng</td>\n",
       "      <td>40 m²</td>\n",
       "      <td>NaN</td>\n",
       "      <td>NaN</td>\n",
       "      <td>65 triệu/m²</td>\n",
       "      <td>Hà Nội</td>\n",
       "    </tr>\n",
       "    <tr>\n",
       "      <th>26003</th>\n",
       "      <td>2020-07-20</td>\n",
       "      <td>NaN</td>\n",
       "      <td>Quận Hà Đông</td>\n",
       "      <td>Phường La Khê</td>\n",
       "      <td>Nhà ngõ, hẻm</td>\n",
       "      <td>NaN</td>\n",
       "      <td>NaN</td>\n",
       "      <td>3 phòng</td>\n",
       "      <td>35 m²</td>\n",
       "      <td>NaN</td>\n",
       "      <td>NaN</td>\n",
       "      <td>28 đ/m²</td>\n",
       "      <td>Hà Nội</td>\n",
       "    </tr>\n",
       "    <tr>\n",
       "      <th>27236</th>\n",
       "      <td>2020-07-20</td>\n",
       "      <td>NaN</td>\n",
       "      <td>Quận Hà Đông</td>\n",
       "      <td>Phường Phú La</td>\n",
       "      <td>Nhà ngõ, hẻm</td>\n",
       "      <td>NaN</td>\n",
       "      <td>NaN</td>\n",
       "      <td>2 phòng</td>\n",
       "      <td>35 m²</td>\n",
       "      <td>NaN</td>\n",
       "      <td>NaN</td>\n",
       "      <td>45.714 đ/m²</td>\n",
       "      <td>Hà Nội</td>\n",
       "    </tr>\n",
       "    <tr>\n",
       "      <th>44769</th>\n",
       "      <td>2020-07-07</td>\n",
       "      <td>NaN</td>\n",
       "      <td>Quận Hà Đông</td>\n",
       "      <td>Phường Nguyễn Trãi</td>\n",
       "      <td>Nhà ngõ, hẻm</td>\n",
       "      <td>NaN</td>\n",
       "      <td>NaN</td>\n",
       "      <td>3 phòng</td>\n",
       "      <td>50 m²</td>\n",
       "      <td>NaN</td>\n",
       "      <td>NaN</td>\n",
       "      <td>1 đ/m²</td>\n",
       "      <td>Hà Nội</td>\n",
       "    </tr>\n",
       "    <tr>\n",
       "      <th>49326</th>\n",
       "      <td>2020-07-03</td>\n",
       "      <td>NaN</td>\n",
       "      <td>Quận Bắc Từ Liêm</td>\n",
       "      <td>Phường Xuân Đỉnh</td>\n",
       "      <td>Nhà ngõ, hẻm</td>\n",
       "      <td>NaN</td>\n",
       "      <td>NaN</td>\n",
       "      <td>3 phòng</td>\n",
       "      <td>40 m²</td>\n",
       "      <td>NaN</td>\n",
       "      <td>NaN</td>\n",
       "      <td>62,5 triệu/m²</td>\n",
       "      <td>Hà Nội</td>\n",
       "    </tr>\n",
       "    <tr>\n",
       "      <th>49572</th>\n",
       "      <td>2020-07-03</td>\n",
       "      <td>NaN</td>\n",
       "      <td>Quận Hà Đông</td>\n",
       "      <td>Phường Dương Nội</td>\n",
       "      <td>Nhà ngõ, hẻm</td>\n",
       "      <td>NaN</td>\n",
       "      <td>NaN</td>\n",
       "      <td>2 phòng</td>\n",
       "      <td>35 m²</td>\n",
       "      <td>NaN</td>\n",
       "      <td>NaN</td>\n",
       "      <td>31,43 triệu/m²</td>\n",
       "      <td>Hà Nội</td>\n",
       "    </tr>\n",
       "    <tr>\n",
       "      <th>50231</th>\n",
       "      <td>2020-07-02</td>\n",
       "      <td>NaN</td>\n",
       "      <td>Quận Hai Bà Trưng</td>\n",
       "      <td>Phường Thanh Nhàn</td>\n",
       "      <td>Nhà ngõ, hẻm</td>\n",
       "      <td>NaN</td>\n",
       "      <td>NaN</td>\n",
       "      <td>3 phòng</td>\n",
       "      <td>35 m²</td>\n",
       "      <td>NaN</td>\n",
       "      <td>NaN</td>\n",
       "      <td>100 triệu/m²</td>\n",
       "      <td>Hà Nội</td>\n",
       "    </tr>\n",
       "    <tr>\n",
       "      <th>51325</th>\n",
       "      <td>2020-07-01</td>\n",
       "      <td>NaN</td>\n",
       "      <td>Quận Thanh Xuân</td>\n",
       "      <td>Phường Khương Mai</td>\n",
       "      <td>Nhà ngõ, hẻm</td>\n",
       "      <td>NaN</td>\n",
       "      <td>NaN</td>\n",
       "      <td>3 phòng</td>\n",
       "      <td>30 m²</td>\n",
       "      <td>NaN</td>\n",
       "      <td>NaN</td>\n",
       "      <td>76,67 triệu/m²</td>\n",
       "      <td>Hà Nội</td>\n",
       "    </tr>\n",
       "    <tr>\n",
       "      <th>61482</th>\n",
       "      <td>2020-06-23</td>\n",
       "      <td>NaN</td>\n",
       "      <td>Quận Nam Từ Liêm</td>\n",
       "      <td>Phường Đại Mỗ</td>\n",
       "      <td>Nhà ngõ, hẻm</td>\n",
       "      <td>NaN</td>\n",
       "      <td>NaN</td>\n",
       "      <td>2 phòng</td>\n",
       "      <td>70 m²</td>\n",
       "      <td>NaN</td>\n",
       "      <td>NaN</td>\n",
       "      <td>42,86 triệu/m²</td>\n",
       "      <td>Hà Nội</td>\n",
       "    </tr>\n",
       "    <tr>\n",
       "      <th>62167</th>\n",
       "      <td>2020-06-22</td>\n",
       "      <td>NaN</td>\n",
       "      <td>Huyện Thanh Trì</td>\n",
       "      <td>Thị trấn Văn Điển</td>\n",
       "      <td>Nhà mặt phố, mặt tiền</td>\n",
       "      <td>NaN</td>\n",
       "      <td>NaN</td>\n",
       "      <td>4 phòng</td>\n",
       "      <td>70 m²</td>\n",
       "      <td>NaN</td>\n",
       "      <td>NaN</td>\n",
       "      <td>30 triệu/m²</td>\n",
       "      <td>Hà Nội</td>\n",
       "    </tr>\n",
       "    <tr>\n",
       "      <th>67389</th>\n",
       "      <td>2020-06-18</td>\n",
       "      <td>NaN</td>\n",
       "      <td>Quận Bắc Từ Liêm</td>\n",
       "      <td>Phường Cổ Nhuế 1</td>\n",
       "      <td>Nhà mặt phố, mặt tiền</td>\n",
       "      <td>NaN</td>\n",
       "      <td>NaN</td>\n",
       "      <td>2 phòng</td>\n",
       "      <td>40 m²</td>\n",
       "      <td>NaN</td>\n",
       "      <td>NaN</td>\n",
       "      <td>112,5 triệu/m²</td>\n",
       "      <td>Hà Nội</td>\n",
       "    </tr>\n",
       "    <tr>\n",
       "      <th>72544</th>\n",
       "      <td>2020-06-14</td>\n",
       "      <td>NaN</td>\n",
       "      <td>Quận Hai Bà Trưng</td>\n",
       "      <td>Phường Quỳnh Mai</td>\n",
       "      <td>Nhà ngõ, hẻm</td>\n",
       "      <td>NaN</td>\n",
       "      <td>NaN</td>\n",
       "      <td>1 phòng</td>\n",
       "      <td>15 m²</td>\n",
       "      <td>NaN</td>\n",
       "      <td>NaN</td>\n",
       "      <td>40.000 đ/m²</td>\n",
       "      <td>Hà Nội</td>\n",
       "    </tr>\n",
       "    <tr>\n",
       "      <th>75251</th>\n",
       "      <td>2020-06-11</td>\n",
       "      <td>NaN</td>\n",
       "      <td>Huyện Thanh Trì</td>\n",
       "      <td>Xã Đông Mỹ</td>\n",
       "      <td>Nhà ngõ, hẻm</td>\n",
       "      <td>NaN</td>\n",
       "      <td>NaN</td>\n",
       "      <td>2 phòng</td>\n",
       "      <td>35 m²</td>\n",
       "      <td>NaN</td>\n",
       "      <td>NaN</td>\n",
       "      <td>20 triệu/m²</td>\n",
       "      <td>Hà Nội</td>\n",
       "    </tr>\n",
       "    <tr>\n",
       "      <th>76294</th>\n",
       "      <td>2020-06-11</td>\n",
       "      <td>NaN</td>\n",
       "      <td>Quận Long Biên</td>\n",
       "      <td>Phường Ngọc Thụy</td>\n",
       "      <td>Nhà mặt phố, mặt tiền</td>\n",
       "      <td>NaN</td>\n",
       "      <td>NaN</td>\n",
       "      <td>3 phòng</td>\n",
       "      <td>35 m²</td>\n",
       "      <td>NaN</td>\n",
       "      <td>NaN</td>\n",
       "      <td>80 triệu/m²</td>\n",
       "      <td>Hà Nội</td>\n",
       "    </tr>\n",
       "  </tbody>\n",
       "</table>\n",
       "</div>"
      ],
      "text/plain": [
       "             Ngày Địa chỉ               Quận               Huyện  \\\n",
       "3397   2020-08-03     NaN    Quận Thanh Xuân  Phường Thượng Đình   \n",
       "8584   2020-07-31     NaN    Quận Thanh Xuân     Quận Thanh Xuân   \n",
       "8926   2020-07-31     NaN     Quận Hoàng Mai     Phường Lĩnh Nam   \n",
       "9101   2020-07-31     NaN   Quận Bắc Từ Liêm  Phường Thụy Phương   \n",
       "9105   2020-07-31     NaN    Quận Thanh Xuân    Phường Kim Giang   \n",
       "11029  2020-07-30     NaN     Quận Hoàng Mai    Phường Vĩnh Hưng   \n",
       "11677  2020-07-29     NaN       Quận Hà Đông     Phường Văn Quán   \n",
       "15369  2020-07-27     NaN      Quận Cầu Giấy    Phường Trung Hoà   \n",
       "17349  2020-07-26     NaN     Quận Hoàng Mai   Phường Thịnh Liệt   \n",
       "26003  2020-07-20     NaN       Quận Hà Đông       Phường La Khê   \n",
       "27236  2020-07-20     NaN       Quận Hà Đông       Phường Phú La   \n",
       "44769  2020-07-07     NaN       Quận Hà Đông  Phường Nguyễn Trãi   \n",
       "49326  2020-07-03     NaN   Quận Bắc Từ Liêm    Phường Xuân Đỉnh   \n",
       "49572  2020-07-03     NaN       Quận Hà Đông    Phường Dương Nội   \n",
       "50231  2020-07-02     NaN  Quận Hai Bà Trưng   Phường Thanh Nhàn   \n",
       "51325  2020-07-01     NaN    Quận Thanh Xuân   Phường Khương Mai   \n",
       "61482  2020-06-23     NaN   Quận Nam Từ Liêm       Phường Đại Mỗ   \n",
       "62167  2020-06-22     NaN    Huyện Thanh Trì   Thị trấn Văn Điển   \n",
       "67389  2020-06-18     NaN   Quận Bắc Từ Liêm    Phường Cổ Nhuế 1   \n",
       "72544  2020-06-14     NaN  Quận Hai Bà Trưng    Phường Quỳnh Mai   \n",
       "75251  2020-06-11     NaN    Huyện Thanh Trì          Xã Đông Mỹ   \n",
       "76294  2020-06-11     NaN     Quận Long Biên    Phường Ngọc Thụy   \n",
       "\n",
       "             Loại hình nhà ở Giấy tờ pháp lý Số tầng Số phòng ngủ Diện tích  \\\n",
       "3397            Nhà ngõ, hẻm             NaN     NaN      3 phòng     40 m²   \n",
       "8584            Nhà ngõ, hẻm        Đã có sổ       5      4 phòng     33 m²   \n",
       "8926            Nhà ngõ, hẻm             NaN     NaN      3 phòng     30 m²   \n",
       "9101            Nhà ngõ, hẻm             NaN     NaN      2 phòng     40 m²   \n",
       "9105            Nhà ngõ, hẻm             NaN     NaN      4 phòng     50 m²   \n",
       "11029           Nhà ngõ, hẻm             NaN     NaN      2 phòng     20 m²   \n",
       "11677           Nhà ngõ, hẻm             NaN     NaN      4 phòng     35 m²   \n",
       "15369        Nhà phố liền kề             NaN     NaN      3 phòng     35 m²   \n",
       "17349  Nhà mặt phố, mặt tiền             NaN     NaN      3 phòng     40 m²   \n",
       "26003           Nhà ngõ, hẻm             NaN     NaN      3 phòng     35 m²   \n",
       "27236           Nhà ngõ, hẻm             NaN     NaN      2 phòng     35 m²   \n",
       "44769           Nhà ngõ, hẻm             NaN     NaN      3 phòng     50 m²   \n",
       "49326           Nhà ngõ, hẻm             NaN     NaN      3 phòng     40 m²   \n",
       "49572           Nhà ngõ, hẻm             NaN     NaN      2 phòng     35 m²   \n",
       "50231           Nhà ngõ, hẻm             NaN     NaN      3 phòng     35 m²   \n",
       "51325           Nhà ngõ, hẻm             NaN     NaN      3 phòng     30 m²   \n",
       "61482           Nhà ngõ, hẻm             NaN     NaN      2 phòng     70 m²   \n",
       "62167  Nhà mặt phố, mặt tiền             NaN     NaN      4 phòng     70 m²   \n",
       "67389  Nhà mặt phố, mặt tiền             NaN     NaN      2 phòng     40 m²   \n",
       "72544           Nhà ngõ, hẻm             NaN     NaN      1 phòng     15 m²   \n",
       "75251           Nhà ngõ, hẻm             NaN     NaN      2 phòng     35 m²   \n",
       "76294  Nhà mặt phố, mặt tiền             NaN     NaN      3 phòng     35 m²   \n",
       "\n",
       "       Dài   Rộng          Giá/m2 Tỉnh/Thành phố  \n",
       "3397   NaN    NaN  68,75 triệu/m²         Hà Nội  \n",
       "8584   NaN  4.1 m  90,91 triệu/m²         Hà Nội  \n",
       "8926   NaN    NaN     70 triệu/m²         Hà Nội  \n",
       "9101   NaN    NaN     20 triệu/m²         Hà Nội  \n",
       "9105   NaN    NaN     68 triệu/m²         Hà Nội  \n",
       "11029  NaN    NaN     65 triệu/m²         Hà Nội  \n",
       "11677  NaN    NaN  81,43 triệu/m²         Hà Nội  \n",
       "15369  NaN    NaN          1 đ/m²         Hà Nội  \n",
       "17349  NaN    NaN     65 triệu/m²         Hà Nội  \n",
       "26003  NaN    NaN         28 đ/m²         Hà Nội  \n",
       "27236  NaN    NaN     45.714 đ/m²         Hà Nội  \n",
       "44769  NaN    NaN          1 đ/m²         Hà Nội  \n",
       "49326  NaN    NaN   62,5 triệu/m²         Hà Nội  \n",
       "49572  NaN    NaN  31,43 triệu/m²         Hà Nội  \n",
       "50231  NaN    NaN    100 triệu/m²         Hà Nội  \n",
       "51325  NaN    NaN  76,67 triệu/m²         Hà Nội  \n",
       "61482  NaN    NaN  42,86 triệu/m²         Hà Nội  \n",
       "62167  NaN    NaN     30 triệu/m²         Hà Nội  \n",
       "67389  NaN    NaN  112,5 triệu/m²         Hà Nội  \n",
       "72544  NaN    NaN     40.000 đ/m²         Hà Nội  \n",
       "75251  NaN    NaN     20 triệu/m²         Hà Nội  \n",
       "76294  NaN    NaN     80 triệu/m²         Hà Nội  "
      ]
     },
     "execution_count": 57,
     "metadata": {},
     "output_type": "execute_result"
    }
   ],
   "source": [
    "df[df['Địa chỉ'].isnull()]"
   ]
  },
  {
   "cell_type": "code",
   "execution_count": 58,
   "id": "a76fe481",
   "metadata": {},
   "outputs": [],
   "source": [
    "# Hàm fill dữ liệu cho cột \"Địa chỉ\"\n",
    "def fill_missing_address(row):\n",
    "    huyen = row['Huyện']\n",
    "    quan = row['Quận']\n",
    "    thanh_pho = row['Tỉnh/Thành phố']\n",
    "    \n",
    "    if pd.notnull(huyen) and pd.notnull(quan):\n",
    "        return huyen + ', ' + quan + ', ' + thanh_pho\n",
    "    elif pd.notnull(huyen):\n",
    "        return huyen + ', ' + thanh_pho\n",
    "    elif pd.notnull(quan):\n",
    "        return quan + ', ' + thanh_pho\n",
    "    else:\n",
    "        return thanh_pho\n",
    "\n",
    "df['Địa chỉ'] = df.apply(fill_missing_address, axis=1)"
   ]
  },
  {
   "cell_type": "markdown",
   "id": "93d1249a",
   "metadata": {},
   "source": [
    "- Để trực quan hóa trên Tableu ta sẽ cần điều chỉnh lại dữ liệu ở cột \"Quận\", các tiền tố như quận, thị xã, huyện, ... sẽ phải loại bỏ. Để tránh ảnh hưởng đến dữ liệu gốc ta sẽ tạo ra cột \"Quận_tableau\""
   ]
  },
  {
   "cell_type": "code",
   "execution_count": 59,
   "id": "be0d744e",
   "metadata": {},
   "outputs": [],
   "source": [
    "df['Quận_tableau'] = df['Quận'].str.replace('Thị xã', '').str.replace('Huyện', '').str.replace('Quận', '')"
   ]
  },
  {
   "cell_type": "code",
   "execution_count": 60,
   "id": "431f36fb",
   "metadata": {},
   "outputs": [],
   "source": [
    "df['Quận_tableau'] = df['Quận_tableau'].apply(lambda x: unidecode(x).strip())"
   ]
  },
  {
   "cell_type": "code",
   "execution_count": 61,
   "id": "0aefdeb5",
   "metadata": {},
   "outputs": [],
   "source": [
    "# Thay thế Nam Tu Liem và Bac Tu Liem thành Tu Liem\n",
    "df['Quận_tableau'] = df['Quận_tableau'].replace(['Nam Tu Liem', 'Bac Tu Liem'], 'Tu Liem')"
   ]
  },
  {
   "cell_type": "code",
   "execution_count": 62,
   "id": "ee22d997",
   "metadata": {},
   "outputs": [
    {
     "data": {
      "text/plain": [
       "array(['Nhà ngõ, hẻm', 'Nhà mặt phố, mặt tiền', 'Nhà biệt thự',\n",
       "       'Nhà phố liền kề', nan], dtype=object)"
      ]
     },
     "execution_count": 62,
     "metadata": {},
     "output_type": "execute_result"
    }
   ],
   "source": [
    "# Xem có bao nhiêu loại hình nhà ở\n",
    "df['Loại hình nhà ở'].unique()"
   ]
  },
  {
   "cell_type": "code",
   "execution_count": 63,
   "id": "1766755b",
   "metadata": {},
   "outputs": [
    {
     "data": {
      "text/plain": [
       "27"
      ]
     },
     "execution_count": 63,
     "metadata": {},
     "output_type": "execute_result"
    }
   ],
   "source": [
    "df[df[\"Loại hình nhà ở\"].isnull()].shape[0]"
   ]
  },
  {
   "cell_type": "code",
   "execution_count": 64,
   "id": "4a733c0f",
   "metadata": {},
   "outputs": [
    {
     "name": "stderr",
     "output_type": "stream",
     "text": [
      "C:\\Users\\ASUS\\AppData\\Local\\Temp\\ipykernel_12592\\1513061100.py:2: FutureWarning: A value is trying to be set on a copy of a DataFrame or Series through chained assignment using an inplace method.\n",
      "The behavior will change in pandas 3.0. This inplace method will never work because the intermediate object on which we are setting values always behaves as a copy.\n",
      "\n",
      "For example, when doing 'df[col].method(value, inplace=True)', try using 'df.method({col: value}, inplace=True)' or df[col] = df[col].method(value) instead, to perform the operation inplace on the original object.\n",
      "\n",
      "\n",
      "  df['Loại hình nhà ở'].fillna('Không rõ', inplace=True)\n"
     ]
    }
   ],
   "source": [
    "# Thay thế ô null bằng 'Không rõ'\n",
    "df['Loại hình nhà ở'].fillna('Không rõ', inplace=True)"
   ]
  },
  {
   "cell_type": "code",
   "execution_count": 65,
   "id": "d830299a",
   "metadata": {},
   "outputs": [
    {
     "data": {
      "text/plain": [
       "28388"
      ]
     },
     "execution_count": 65,
     "metadata": {},
     "output_type": "execute_result"
    }
   ],
   "source": [
    "# Kiểm tra cột \"Giấy tờ pháp lý\"\n",
    "df[df[\"Giấy tờ pháp lý\"].isnull()].shape[0]"
   ]
  },
  {
   "cell_type": "code",
   "execution_count": 66,
   "id": "9819ab06",
   "metadata": {},
   "outputs": [
    {
     "name": "stderr",
     "output_type": "stream",
     "text": [
      "C:\\Users\\ASUS\\AppData\\Local\\Temp\\ipykernel_12592\\2200457342.py:2: FutureWarning: A value is trying to be set on a copy of a DataFrame or Series through chained assignment using an inplace method.\n",
      "The behavior will change in pandas 3.0. This inplace method will never work because the intermediate object on which we are setting values always behaves as a copy.\n",
      "\n",
      "For example, when doing 'df[col].method(value, inplace=True)', try using 'df.method({col: value}, inplace=True)' or df[col] = df[col].method(value) instead, to perform the operation inplace on the original object.\n",
      "\n",
      "\n",
      "  df['Giấy tờ pháp lý'].fillna(\"Không rõ\", inplace=True)\n"
     ]
    }
   ],
   "source": [
    "# Tiếp tục thay thế giá trị null bằng \"Không rõ\"\n",
    "df['Giấy tờ pháp lý'].fillna(\"Không rõ\", inplace=True)"
   ]
  },
  {
   "cell_type": "code",
   "execution_count": 67,
   "id": "0a03c64b",
   "metadata": {},
   "outputs": [
    {
     "data": {
      "text/plain": [
       "45425"
      ]
     },
     "execution_count": 67,
     "metadata": {},
     "output_type": "execute_result"
    }
   ],
   "source": [
    "# Tiếp tục kiểm tra cột số tầng \n",
    "df[df[\"Số tầng\"].isnull()].shape[0]"
   ]
  },
  {
   "cell_type": "code",
   "execution_count": 68,
   "id": "56f1d381",
   "metadata": {},
   "outputs": [
    {
     "name": "stderr",
     "output_type": "stream",
     "text": [
      "C:\\Users\\ASUS\\AppData\\Local\\Temp\\ipykernel_12592\\3374417536.py:2: FutureWarning: A value is trying to be set on a copy of a DataFrame or Series through chained assignment using an inplace method.\n",
      "The behavior will change in pandas 3.0. This inplace method will never work because the intermediate object on which we are setting values always behaves as a copy.\n",
      "\n",
      "For example, when doing 'df[col].method(value, inplace=True)', try using 'df.method({col: value}, inplace=True)' or df[col] = df[col].method(value) instead, to perform the operation inplace on the original object.\n",
      "\n",
      "\n",
      "  df['Số tầng'].fillna(1, inplace=True)\n"
     ]
    }
   ],
   "source": [
    "# Số dòng có số tầng null khá lớn nên ta sẽ thay thế bằng 1 tầng tức là tương đương đất chưa xây dựng\n",
    "df['Số tầng'].fillna(1, inplace=True)"
   ]
  },
  {
   "cell_type": "code",
   "execution_count": 86,
   "id": "8fdcb921",
   "metadata": {},
   "outputs": [
    {
     "data": {
      "text/plain": [
       "37"
      ]
     },
     "execution_count": 86,
     "metadata": {},
     "output_type": "execute_result"
    }
   ],
   "source": [
    "# Kiểm tra cột \"Số phòng ngủ\"\n",
    "df[df[\"Số phòng ngủ\"].isnull()].shape[0]"
   ]
  },
  {
   "cell_type": "code",
   "execution_count": 87,
   "id": "2ba899c9",
   "metadata": {},
   "outputs": [],
   "source": [
    "# Ta cũng sẽ thay thế giá trị null bằng 1 phòng ngủ\n",
    "df['Số phòng ngủ'].fillna(1, inplace=True)"
   ]
  },
  {
   "cell_type": "markdown",
   "id": "d7d0c09d",
   "metadata": {},
   "source": [
    "- Hai cột chiều dài và chiều rộng có tỷ lệ giá trị null khá lớn đều hơn 50%, ngoài ra đó là quy trình đo đạc còn chưa nhất quán và diện tích đất cũng không rõ ràng trong việc diện tích thật và diện tích sử dụng. Để tránh làm dữ liệu bị hỗn loạn ta sẽ loại bỏ 2 cột này "
   ]
  },
  {
   "cell_type": "code",
   "execution_count": 71,
   "id": "f04f655f",
   "metadata": {},
   "outputs": [],
   "source": [
    "df=df.drop(columns=[\"Dài\",\"Rộng\"])"
   ]
  },
  {
   "cell_type": "code",
   "execution_count": 88,
   "id": "17a5bc5e",
   "metadata": {},
   "outputs": [
    {
     "data": {
      "text/plain": [
       "Ngày               0.0\n",
       "Địa chỉ            0.0\n",
       "Quận               0.0\n",
       "Huyện              0.0\n",
       "Loại hình nhà ở    0.0\n",
       "Giấy tờ pháp lý    0.0\n",
       "Số tầng            0.0\n",
       "Số phòng ngủ       0.0\n",
       "Diện tích          0.0\n",
       "Giá/m2             0.0\n",
       "Tỉnh/Thành phố     0.0\n",
       "Quận_tableau       0.0\n",
       "dtype: float64"
      ]
     },
     "execution_count": 88,
     "metadata": {},
     "output_type": "execute_result"
    }
   ],
   "source": [
    "# Kiểm tra tỷ lệ giá trị null trong các cột\n",
    "df.isnull().sum() / len(df)"
   ]
  },
  {
   "cell_type": "markdown",
   "id": "5b1b815f",
   "metadata": {},
   "source": [
    "### 2.3. Chuẩn hóa định dạng dữ liệu để xử lý chi tiết "
   ]
  },
  {
   "cell_type": "code",
   "execution_count": 89,
   "id": "937d6f13",
   "metadata": {},
   "outputs": [
    {
     "data": {
      "text/plain": [
       "Ngày               datetime64[ns]\n",
       "Địa chỉ                    object\n",
       "Quận                       object\n",
       "Huyện                      object\n",
       "Loại hình nhà ở            object\n",
       "Giấy tờ pháp lý            object\n",
       "Số tầng                     int64\n",
       "Số phòng ngủ               object\n",
       "Diện tích                  object\n",
       "Giá/m2                     object\n",
       "Tỉnh/Thành phố             object\n",
       "Quận_tableau               object\n",
       "dtype: object"
      ]
     },
     "execution_count": 89,
     "metadata": {},
     "output_type": "execute_result"
    }
   ],
   "source": [
    "# Kiểm tra kiểu dữ liệu của các cột\n",
    "df.dtypes"
   ]
  },
  {
   "cell_type": "markdown",
   "id": "6885c699",
   "metadata": {},
   "source": [
    "- Cột \"Ngày\" cần chuyển về dạng datetime\n",
    "- Cột \"Số tầng\", \"Số phòng ngủ\", \"Diện tích\", \"Giá\" cần chuyển về dạng số"
   ]
  },
  {
   "cell_type": "code",
   "execution_count": 74,
   "id": "e621706e",
   "metadata": {},
   "outputs": [],
   "source": [
    "# Chuyển đổi kiểu dữ liệu của cột \"Ngày\"\n",
    "df['Ngày'] = pd.to_datetime(df['Ngày'])"
   ]
  },
  {
   "cell_type": "code",
   "execution_count": 75,
   "id": "df96215a",
   "metadata": {},
   "outputs": [
    {
     "data": {
      "text/plain": [
       "array(['4', 1, '6', '5', '7', '2', '3', '8', '1', '9', '50', '38', '35',\n",
       "       '10', 'Nhiều hơn 10', '45', '33', '42', '25', '73', '12', '65',\n",
       "       '55', '30', '14', '40', '52', '54', '32', '29'], dtype=object)"
      ]
     },
     "execution_count": 75,
     "metadata": {},
     "output_type": "execute_result"
    }
   ],
   "source": [
    "# Xem các giá trị duy nhất trong cột \"Số tầng\"\n",
    "df['Số tầng'].unique()"
   ]
  },
  {
   "cell_type": "code",
   "execution_count": 76,
   "id": "782718df",
   "metadata": {},
   "outputs": [],
   "source": [
    "# Đổi giá trị \"Nhiều hơn 10\" thành 11\n",
    "df.loc[df['Số tầng']=='Nhiều hơn 10','Số tầng']=11"
   ]
  },
  {
   "cell_type": "code",
   "execution_count": 77,
   "id": "89bdeecc",
   "metadata": {},
   "outputs": [],
   "source": [
    "# CHuyển \"Số tầng\" về kiểu số nguyên\n",
    "df['Số tầng'] = df['Số tầng'].astype(int)"
   ]
  },
  {
   "cell_type": "code",
   "execution_count": 92,
   "id": "eaf79121",
   "metadata": {},
   "outputs": [
    {
     "data": {
      "text/plain": [
       "array(['5 ', '3 ', '4 ', '6 ', '11', '8 ', '2 ', '7 ', '9 ', '1 ', '10 ',\n",
       "       nan], dtype=object)"
      ]
     },
     "execution_count": 92,
     "metadata": {},
     "output_type": "execute_result"
    }
   ],
   "source": [
    "# Xem các giá trị duy nhất trong cột \"Số phòng ngủ\" \n",
    "df[\"Số phòng ngủ\"].unique()"
   ]
  },
  {
   "cell_type": "code",
   "execution_count": 79,
   "id": "1c0c202d",
   "metadata": {},
   "outputs": [],
   "source": [
    "# Đổi giá trị \"Nhiều hơn 10 phòng\" thành 11\n",
    "df.loc[df[\"Số phòng ngủ\"]=='nhiều hơn 10 phòng','Số phòng ngủ']='11'"
   ]
  },
  {
   "cell_type": "code",
   "execution_count": 91,
   "id": "b0751cc1",
   "metadata": {},
   "outputs": [
    {
     "ename": "ValueError",
     "evalue": "cannot convert float NaN to integer",
     "output_type": "error",
     "traceback": [
      "\u001b[1;31m---------------------------------------------------------------------------\u001b[0m",
      "\u001b[1;31mValueError\u001b[0m                                Traceback (most recent call last)",
      "Cell \u001b[1;32mIn[91], line 3\u001b[0m\n\u001b[0;32m      1\u001b[0m \u001b[38;5;66;03m# Loại bỏ từ \"phòng\" và chuyển đổi về kiểu số nguyên\u001b[39;00m\n\u001b[0;32m      2\u001b[0m df[\u001b[38;5;124m\"\u001b[39m\u001b[38;5;124mSố phòng ngủ\u001b[39m\u001b[38;5;124m\"\u001b[39m]\u001b[38;5;241m=\u001b[39mdf[\u001b[38;5;124m\"\u001b[39m\u001b[38;5;124mSố phòng ngủ\u001b[39m\u001b[38;5;124m\"\u001b[39m]\u001b[38;5;241m.\u001b[39mstr\u001b[38;5;241m.\u001b[39mreplace(\u001b[38;5;124m'\u001b[39m\u001b[38;5;124mphòng\u001b[39m\u001b[38;5;124m'\u001b[39m, \u001b[38;5;124m'\u001b[39m\u001b[38;5;124m'\u001b[39m)\n\u001b[1;32m----> 3\u001b[0m df[\u001b[38;5;124m\"\u001b[39m\u001b[38;5;124mSố phòng ngủ\u001b[39m\u001b[38;5;124m\"\u001b[39m]\u001b[38;5;241m=\u001b[39m\u001b[43mdf\u001b[49m\u001b[43m[\u001b[49m\u001b[38;5;124;43m\"\u001b[39;49m\u001b[38;5;124;43mSố phòng ngủ\u001b[39;49m\u001b[38;5;124;43m\"\u001b[39;49m\u001b[43m]\u001b[49m\u001b[38;5;241;43m.\u001b[39;49m\u001b[43mastype\u001b[49m\u001b[43m(\u001b[49m\u001b[38;5;28;43mint\u001b[39;49m\u001b[43m)\u001b[49m\n",
      "File \u001b[1;32mc:\\Users\\ASUS\\AppData\\Local\\Programs\\Python\\Python312\\Lib\\site-packages\\pandas\\core\\generic.py:6643\u001b[0m, in \u001b[0;36mNDFrame.astype\u001b[1;34m(self, dtype, copy, errors)\u001b[0m\n\u001b[0;32m   6637\u001b[0m     results \u001b[38;5;241m=\u001b[39m [\n\u001b[0;32m   6638\u001b[0m         ser\u001b[38;5;241m.\u001b[39mastype(dtype, copy\u001b[38;5;241m=\u001b[39mcopy, errors\u001b[38;5;241m=\u001b[39merrors) \u001b[38;5;28;01mfor\u001b[39;00m _, ser \u001b[38;5;129;01min\u001b[39;00m \u001b[38;5;28mself\u001b[39m\u001b[38;5;241m.\u001b[39mitems()\n\u001b[0;32m   6639\u001b[0m     ]\n\u001b[0;32m   6641\u001b[0m \u001b[38;5;28;01melse\u001b[39;00m:\n\u001b[0;32m   6642\u001b[0m     \u001b[38;5;66;03m# else, only a single dtype is given\u001b[39;00m\n\u001b[1;32m-> 6643\u001b[0m     new_data \u001b[38;5;241m=\u001b[39m \u001b[38;5;28;43mself\u001b[39;49m\u001b[38;5;241;43m.\u001b[39;49m\u001b[43m_mgr\u001b[49m\u001b[38;5;241;43m.\u001b[39;49m\u001b[43mastype\u001b[49m\u001b[43m(\u001b[49m\u001b[43mdtype\u001b[49m\u001b[38;5;241;43m=\u001b[39;49m\u001b[43mdtype\u001b[49m\u001b[43m,\u001b[49m\u001b[43m \u001b[49m\u001b[43mcopy\u001b[49m\u001b[38;5;241;43m=\u001b[39;49m\u001b[43mcopy\u001b[49m\u001b[43m,\u001b[49m\u001b[43m \u001b[49m\u001b[43merrors\u001b[49m\u001b[38;5;241;43m=\u001b[39;49m\u001b[43merrors\u001b[49m\u001b[43m)\u001b[49m\n\u001b[0;32m   6644\u001b[0m     res \u001b[38;5;241m=\u001b[39m \u001b[38;5;28mself\u001b[39m\u001b[38;5;241m.\u001b[39m_constructor_from_mgr(new_data, axes\u001b[38;5;241m=\u001b[39mnew_data\u001b[38;5;241m.\u001b[39maxes)\n\u001b[0;32m   6645\u001b[0m     \u001b[38;5;28;01mreturn\u001b[39;00m res\u001b[38;5;241m.\u001b[39m__finalize__(\u001b[38;5;28mself\u001b[39m, method\u001b[38;5;241m=\u001b[39m\u001b[38;5;124m\"\u001b[39m\u001b[38;5;124mastype\u001b[39m\u001b[38;5;124m\"\u001b[39m)\n",
      "File \u001b[1;32mc:\\Users\\ASUS\\AppData\\Local\\Programs\\Python\\Python312\\Lib\\site-packages\\pandas\\core\\internals\\managers.py:430\u001b[0m, in \u001b[0;36mBaseBlockManager.astype\u001b[1;34m(self, dtype, copy, errors)\u001b[0m\n\u001b[0;32m    427\u001b[0m \u001b[38;5;28;01melif\u001b[39;00m using_copy_on_write():\n\u001b[0;32m    428\u001b[0m     copy \u001b[38;5;241m=\u001b[39m \u001b[38;5;28;01mFalse\u001b[39;00m\n\u001b[1;32m--> 430\u001b[0m \u001b[38;5;28;01mreturn\u001b[39;00m \u001b[38;5;28;43mself\u001b[39;49m\u001b[38;5;241;43m.\u001b[39;49m\u001b[43mapply\u001b[49m\u001b[43m(\u001b[49m\n\u001b[0;32m    431\u001b[0m \u001b[43m    \u001b[49m\u001b[38;5;124;43m\"\u001b[39;49m\u001b[38;5;124;43mastype\u001b[39;49m\u001b[38;5;124;43m\"\u001b[39;49m\u001b[43m,\u001b[49m\n\u001b[0;32m    432\u001b[0m \u001b[43m    \u001b[49m\u001b[43mdtype\u001b[49m\u001b[38;5;241;43m=\u001b[39;49m\u001b[43mdtype\u001b[49m\u001b[43m,\u001b[49m\n\u001b[0;32m    433\u001b[0m \u001b[43m    \u001b[49m\u001b[43mcopy\u001b[49m\u001b[38;5;241;43m=\u001b[39;49m\u001b[43mcopy\u001b[49m\u001b[43m,\u001b[49m\n\u001b[0;32m    434\u001b[0m \u001b[43m    \u001b[49m\u001b[43merrors\u001b[49m\u001b[38;5;241;43m=\u001b[39;49m\u001b[43merrors\u001b[49m\u001b[43m,\u001b[49m\n\u001b[0;32m    435\u001b[0m \u001b[43m    \u001b[49m\u001b[43musing_cow\u001b[49m\u001b[38;5;241;43m=\u001b[39;49m\u001b[43musing_copy_on_write\u001b[49m\u001b[43m(\u001b[49m\u001b[43m)\u001b[49m\u001b[43m,\u001b[49m\n\u001b[0;32m    436\u001b[0m \u001b[43m\u001b[49m\u001b[43m)\u001b[49m\n",
      "File \u001b[1;32mc:\\Users\\ASUS\\AppData\\Local\\Programs\\Python\\Python312\\Lib\\site-packages\\pandas\\core\\internals\\managers.py:363\u001b[0m, in \u001b[0;36mBaseBlockManager.apply\u001b[1;34m(self, f, align_keys, **kwargs)\u001b[0m\n\u001b[0;32m    361\u001b[0m         applied \u001b[38;5;241m=\u001b[39m b\u001b[38;5;241m.\u001b[39mapply(f, \u001b[38;5;241m*\u001b[39m\u001b[38;5;241m*\u001b[39mkwargs)\n\u001b[0;32m    362\u001b[0m     \u001b[38;5;28;01melse\u001b[39;00m:\n\u001b[1;32m--> 363\u001b[0m         applied \u001b[38;5;241m=\u001b[39m \u001b[38;5;28;43mgetattr\u001b[39;49m\u001b[43m(\u001b[49m\u001b[43mb\u001b[49m\u001b[43m,\u001b[49m\u001b[43m \u001b[49m\u001b[43mf\u001b[49m\u001b[43m)\u001b[49m\u001b[43m(\u001b[49m\u001b[38;5;241;43m*\u001b[39;49m\u001b[38;5;241;43m*\u001b[39;49m\u001b[43mkwargs\u001b[49m\u001b[43m)\u001b[49m\n\u001b[0;32m    364\u001b[0m     result_blocks \u001b[38;5;241m=\u001b[39m extend_blocks(applied, result_blocks)\n\u001b[0;32m    366\u001b[0m out \u001b[38;5;241m=\u001b[39m \u001b[38;5;28mtype\u001b[39m(\u001b[38;5;28mself\u001b[39m)\u001b[38;5;241m.\u001b[39mfrom_blocks(result_blocks, \u001b[38;5;28mself\u001b[39m\u001b[38;5;241m.\u001b[39maxes)\n",
      "File \u001b[1;32mc:\\Users\\ASUS\\AppData\\Local\\Programs\\Python\\Python312\\Lib\\site-packages\\pandas\\core\\internals\\blocks.py:758\u001b[0m, in \u001b[0;36mBlock.astype\u001b[1;34m(self, dtype, copy, errors, using_cow, squeeze)\u001b[0m\n\u001b[0;32m    755\u001b[0m         \u001b[38;5;28;01mraise\u001b[39;00m \u001b[38;5;167;01mValueError\u001b[39;00m(\u001b[38;5;124m\"\u001b[39m\u001b[38;5;124mCan not squeeze with more than one column.\u001b[39m\u001b[38;5;124m\"\u001b[39m)\n\u001b[0;32m    756\u001b[0m     values \u001b[38;5;241m=\u001b[39m values[\u001b[38;5;241m0\u001b[39m, :]  \u001b[38;5;66;03m# type: ignore[call-overload]\u001b[39;00m\n\u001b[1;32m--> 758\u001b[0m new_values \u001b[38;5;241m=\u001b[39m \u001b[43mastype_array_safe\u001b[49m\u001b[43m(\u001b[49m\u001b[43mvalues\u001b[49m\u001b[43m,\u001b[49m\u001b[43m \u001b[49m\u001b[43mdtype\u001b[49m\u001b[43m,\u001b[49m\u001b[43m \u001b[49m\u001b[43mcopy\u001b[49m\u001b[38;5;241;43m=\u001b[39;49m\u001b[43mcopy\u001b[49m\u001b[43m,\u001b[49m\u001b[43m \u001b[49m\u001b[43merrors\u001b[49m\u001b[38;5;241;43m=\u001b[39;49m\u001b[43merrors\u001b[49m\u001b[43m)\u001b[49m\n\u001b[0;32m    760\u001b[0m new_values \u001b[38;5;241m=\u001b[39m maybe_coerce_values(new_values)\n\u001b[0;32m    762\u001b[0m refs \u001b[38;5;241m=\u001b[39m \u001b[38;5;28;01mNone\u001b[39;00m\n",
      "File \u001b[1;32mc:\\Users\\ASUS\\AppData\\Local\\Programs\\Python\\Python312\\Lib\\site-packages\\pandas\\core\\dtypes\\astype.py:237\u001b[0m, in \u001b[0;36mastype_array_safe\u001b[1;34m(values, dtype, copy, errors)\u001b[0m\n\u001b[0;32m    234\u001b[0m     dtype \u001b[38;5;241m=\u001b[39m dtype\u001b[38;5;241m.\u001b[39mnumpy_dtype\n\u001b[0;32m    236\u001b[0m \u001b[38;5;28;01mtry\u001b[39;00m:\n\u001b[1;32m--> 237\u001b[0m     new_values \u001b[38;5;241m=\u001b[39m \u001b[43mastype_array\u001b[49m\u001b[43m(\u001b[49m\u001b[43mvalues\u001b[49m\u001b[43m,\u001b[49m\u001b[43m \u001b[49m\u001b[43mdtype\u001b[49m\u001b[43m,\u001b[49m\u001b[43m \u001b[49m\u001b[43mcopy\u001b[49m\u001b[38;5;241;43m=\u001b[39;49m\u001b[43mcopy\u001b[49m\u001b[43m)\u001b[49m\n\u001b[0;32m    238\u001b[0m \u001b[38;5;28;01mexcept\u001b[39;00m (\u001b[38;5;167;01mValueError\u001b[39;00m, \u001b[38;5;167;01mTypeError\u001b[39;00m):\n\u001b[0;32m    239\u001b[0m     \u001b[38;5;66;03m# e.g. _astype_nansafe can fail on object-dtype of strings\u001b[39;00m\n\u001b[0;32m    240\u001b[0m     \u001b[38;5;66;03m#  trying to convert to float\u001b[39;00m\n\u001b[0;32m    241\u001b[0m     \u001b[38;5;28;01mif\u001b[39;00m errors \u001b[38;5;241m==\u001b[39m \u001b[38;5;124m\"\u001b[39m\u001b[38;5;124mignore\u001b[39m\u001b[38;5;124m\"\u001b[39m:\n",
      "File \u001b[1;32mc:\\Users\\ASUS\\AppData\\Local\\Programs\\Python\\Python312\\Lib\\site-packages\\pandas\\core\\dtypes\\astype.py:182\u001b[0m, in \u001b[0;36mastype_array\u001b[1;34m(values, dtype, copy)\u001b[0m\n\u001b[0;32m    179\u001b[0m     values \u001b[38;5;241m=\u001b[39m values\u001b[38;5;241m.\u001b[39mastype(dtype, copy\u001b[38;5;241m=\u001b[39mcopy)\n\u001b[0;32m    181\u001b[0m \u001b[38;5;28;01melse\u001b[39;00m:\n\u001b[1;32m--> 182\u001b[0m     values \u001b[38;5;241m=\u001b[39m \u001b[43m_astype_nansafe\u001b[49m\u001b[43m(\u001b[49m\u001b[43mvalues\u001b[49m\u001b[43m,\u001b[49m\u001b[43m \u001b[49m\u001b[43mdtype\u001b[49m\u001b[43m,\u001b[49m\u001b[43m \u001b[49m\u001b[43mcopy\u001b[49m\u001b[38;5;241;43m=\u001b[39;49m\u001b[43mcopy\u001b[49m\u001b[43m)\u001b[49m\n\u001b[0;32m    184\u001b[0m \u001b[38;5;66;03m# in pandas we don't store numpy str dtypes, so convert to object\u001b[39;00m\n\u001b[0;32m    185\u001b[0m \u001b[38;5;28;01mif\u001b[39;00m \u001b[38;5;28misinstance\u001b[39m(dtype, np\u001b[38;5;241m.\u001b[39mdtype) \u001b[38;5;129;01mand\u001b[39;00m \u001b[38;5;28missubclass\u001b[39m(values\u001b[38;5;241m.\u001b[39mdtype\u001b[38;5;241m.\u001b[39mtype, \u001b[38;5;28mstr\u001b[39m):\n",
      "File \u001b[1;32mc:\\Users\\ASUS\\AppData\\Local\\Programs\\Python\\Python312\\Lib\\site-packages\\pandas\\core\\dtypes\\astype.py:133\u001b[0m, in \u001b[0;36m_astype_nansafe\u001b[1;34m(arr, dtype, copy, skipna)\u001b[0m\n\u001b[0;32m    129\u001b[0m     \u001b[38;5;28;01mraise\u001b[39;00m \u001b[38;5;167;01mValueError\u001b[39;00m(msg)\n\u001b[0;32m    131\u001b[0m \u001b[38;5;28;01mif\u001b[39;00m copy \u001b[38;5;129;01mor\u001b[39;00m arr\u001b[38;5;241m.\u001b[39mdtype \u001b[38;5;241m==\u001b[39m \u001b[38;5;28mobject\u001b[39m \u001b[38;5;129;01mor\u001b[39;00m dtype \u001b[38;5;241m==\u001b[39m \u001b[38;5;28mobject\u001b[39m:\n\u001b[0;32m    132\u001b[0m     \u001b[38;5;66;03m# Explicit copy, or required since NumPy can't view from / to object.\u001b[39;00m\n\u001b[1;32m--> 133\u001b[0m     \u001b[38;5;28;01mreturn\u001b[39;00m \u001b[43marr\u001b[49m\u001b[38;5;241;43m.\u001b[39;49m\u001b[43mastype\u001b[49m\u001b[43m(\u001b[49m\u001b[43mdtype\u001b[49m\u001b[43m,\u001b[49m\u001b[43m \u001b[49m\u001b[43mcopy\u001b[49m\u001b[38;5;241;43m=\u001b[39;49m\u001b[38;5;28;43;01mTrue\u001b[39;49;00m\u001b[43m)\u001b[49m\n\u001b[0;32m    135\u001b[0m \u001b[38;5;28;01mreturn\u001b[39;00m arr\u001b[38;5;241m.\u001b[39mastype(dtype, copy\u001b[38;5;241m=\u001b[39mcopy)\n",
      "\u001b[1;31mValueError\u001b[0m: cannot convert float NaN to integer"
     ]
    }
   ],
   "source": [
    "# Loại bỏ từ \"phòng\" và chuyển đổi về kiểu số nguyên\n",
    "df[\"Số phòng ngủ\"]=df[\"Số phòng ngủ\"].str.replace('phòng', '')\n",
    "df[\"Số phòng ngủ\"]=df[\"Số phòng ngủ\"].astype(int)"
   ]
  },
  {
   "cell_type": "code",
   "execution_count": null,
   "id": "73f6766b",
   "metadata": {},
   "outputs": [],
   "source": [
    "# Kiểm tra các giá trị duy nhất của cột \"Diện tích\"\n",
    "df[\"Diện tích\"].unique()"
   ]
  },
  {
   "cell_type": "code",
   "execution_count": null,
   "id": "b58a80d5",
   "metadata": {},
   "outputs": [],
   "source": [
    "# Loại bỏ đơn vị \"m2\" và chuyển về kiểu số thực \n",
    "df[\"Diện tích\"]=df[\"Diện tích\"].str.replace('m²', '')\n",
    "df[\"Diện tích\"]=df[\"Diện tích\"].astype(float)"
   ]
  },
  {
   "cell_type": "markdown",
   "id": "dcc4fcfe",
   "metadata": {},
   "source": [
    "- Qua quan sát nhanh dễ dàng nhận thấy có những bất động sản có diện tích cực khủng nên ta sẽ sử dụng thư viện mathplotlib để vẽ biểu đồ và loại bỏ các \"outlier\""
   ]
  },
  {
   "cell_type": "code",
   "execution_count": null,
   "id": "3986f7fe",
   "metadata": {},
   "outputs": [],
   "source": [
    "plt.boxplot(df[\"Diện tích\"])\n",
    "plt.show()"
   ]
  },
  {
   "cell_type": "code",
   "execution_count": null,
   "id": "28782130",
   "metadata": {},
   "outputs": [],
   "source": [
    "# Xem xét các bất động sản có diện tích nhỏ 99,95% số còn lại \n",
    "df[df['Diện tích'] <= df['Diện tích'].quantile(0.0005)]"
   ]
  },
  {
   "cell_type": "code",
   "execution_count": null,
   "id": "2643ffa1",
   "metadata": {},
   "outputs": [],
   "source": [
    "# Xem các bất động sản có diện tích lớn hơn 99,98% số còn lại\n",
    "df[df['Diện tích'] >= df['Diện tích'].quantile(0.9998)]"
   ]
  },
  {
   "cell_type": "markdown",
   "id": "b01745ea",
   "metadata": {},
   "source": [
    "- Dựa vào mối quan hệ giữa \"Giá\" và \"Diện tích\" ta thấy đây là mức giá và diện tích vô cùng bất hợp lý nên ta sẽ loại bỏ "
   ]
  },
  {
   "cell_type": "code",
   "execution_count": null,
   "id": "3405eced",
   "metadata": {},
   "outputs": [],
   "source": [
    "min_=df['Diện tích'].quantile(0.0005)\n",
    "max_=df['Diện tích'].quantile(0.9998)\n",
    "\n",
    "df=df[df['Diện tích'] >= min_]\n",
    "df=df[df['Diện tích'] <= max_]"
   ]
  },
  {
   "cell_type": "code",
   "execution_count": null,
   "id": "b46f4f93",
   "metadata": {},
   "outputs": [],
   "source": [
    "# Thêm cột \"Đơn vị\" để kiểm tra các giá trị duy nhất của cột \"Giá/m2\" dễ hơn\n",
    "df['Đơn vị'] = df['Giá/m2'].apply(lambda x: re.findall(r'[^\\d.,]+', x)[0])\n",
    "df['Đơn vị'].unique()"
   ]
  },
  {
   "cell_type": "code",
   "execution_count": null,
   "id": "222cdd95",
   "metadata": {},
   "outputs": [],
   "source": [
    "# Đếm số lượng từng giá trị trong cột \"Đơn vị\"\n",
    "print(df['Đơn vị'].value_counts())"
   ]
  },
  {
   "cell_type": "markdown",
   "id": "65c0c4d0",
   "metadata": {},
   "source": [
    "- Như vậy ta sẽ quy hết giá bán về đơn vị \"triệu/m2\""
   ]
  },
  {
   "cell_type": "code",
   "execution_count": null,
   "id": "c1d1c7a1",
   "metadata": {},
   "outputs": [],
   "source": [
    "# Thay thế dấu '.' và ',' trong cột \"Giá/m2\" để chuyển đổi về định dạng số thực\n",
    "df['Giá/m2']=df['Giá/m2'].str.replace('.', '')\n",
    "df['Giá/m2']=df['Giá/m2'].str.replace(',', '.')"
   ]
  },
  {
   "cell_type": "code",
   "execution_count": null,
   "id": "4c09756e",
   "metadata": {},
   "outputs": [],
   "source": [
    "# Loại bỏ các đơn vị không cần thiết trong cột \"Giá/m2\"\n",
    "df['Giá/m2'] = df['Giá/m2'].str.replace('đ/m²', '').str.replace('triệu/m²', '').str.replace('tỷ/m²', '')"
   ]
  },
  {
   "cell_type": "code",
   "execution_count": null,
   "id": "3290c36b",
   "metadata": {},
   "outputs": [],
   "source": [
    "# Ép kiểu dữ liệu về dạng số thực\n",
    "df[\"Giá/m2\"]=df[\"Giá/m2\"].astype(float)"
   ]
  },
  {
   "cell_type": "code",
   "execution_count": null,
   "id": "342522bd",
   "metadata": {},
   "outputs": [],
   "source": [
    "# hàm chuyển đổi giá bán về triệu đồng/m2\n",
    "def convert_price(row):\n",
    "    if row['Đơn vị'] == ' tỷ/m²':\n",
    "        return row['Giá/m2'] * 1000\n",
    "    elif row['Đơn vị'] == ' đ/m²':\n",
    "        return row['Giá/m2'] * 0.000001\n",
    "    else:\n",
    "        return row['Giá/m2']\n",
    "\n",
    "df['Giá/m2'] = df.apply(convert_price, axis=1)\n",
    "\n",
    "# Loại bỏ cột \"Đơn vị\" sau khi không cần nữa\n",
    "df=df.drop(columns=\"Đơn vị\")\n",
    "# Đổi tên cột \"Giá/m2\" thành \"Giá (triệu đồng/m2)\"\n",
    "df = df.rename(columns={'Giá/m2': 'Giá (triệu đồng/m2)'})"
   ]
  },
  {
   "cell_type": "markdown",
   "id": "a0980394",
   "metadata": {},
   "source": [
    "### 2.4. Kiểm tra và loại bỏ các giá trị ngoại lai(Outliers)\n",
    "- Trước đó ta đã kiểm tra cột \"Diện tích\" bây giờ sẽ đến cột \"Giá (triệu đồng/m2)\""
   ]
  },
  {
   "cell_type": "code",
   "execution_count": null,
   "id": "e3106e82",
   "metadata": {},
   "outputs": [],
   "source": [
    "plt.boxplot(df[\"Giá (triệu đồng/m2)\"])\n",
    "plt.show()"
   ]
  },
  {
   "cell_type": "markdown",
   "id": "e580e25c",
   "metadata": {},
   "source": [
    "- Cũng khá nhiều outliers nên ta cũng sẽ loại bỏ bớt"
   ]
  },
  {
   "cell_type": "code",
   "execution_count": null,
   "id": "65c2f9c4",
   "metadata": {},
   "outputs": [],
   "source": [
    "df['Lower Bound'] = df.groupby(['Quận'])['Giá (triệu đồng/m2)'].transform(lambda x: x.quantile(0.25) - 1.5 * (x.quantile(0.75) - x.quantile(0.25)))\n",
    "df['Upper Bound'] = df.groupby(['Quận'])['Giá (triệu đồng/m2)'].transform(lambda x: x.quantile(0.75) + 1.5 * (x.quantile(0.75) - x.quantile(0.25)))\n",
    "\n",
    "\n",
    "df = df[(df['Giá (triệu đồng/m2)'] >= df['Lower Bound']) & (df['Giá (triệu đồng/m2)'] <= df['Upper Bound'])]\n",
    "df = df.drop(['Lower Bound', 'Upper Bound'], axis=1)"
   ]
  },
  {
   "cell_type": "code",
   "execution_count": null,
   "id": "101b591a",
   "metadata": {},
   "outputs": [],
   "source": [
    "df.dtypes"
   ]
  },
  {
   "cell_type": "code",
   "execution_count": null,
   "id": "30e73f35",
   "metadata": {},
   "outputs": [],
   "source": [
    "# Kiểm tra các cột trùng lặp lần cuối \n",
    "sum(df.duplicated())"
   ]
  },
  {
   "cell_type": "code",
   "execution_count": null,
   "id": "40fdd44f",
   "metadata": {},
   "outputs": [],
   "source": [
    "df=df.drop_duplicates()"
   ]
  },
  {
   "cell_type": "code",
   "execution_count": null,
   "id": "a64a7ea1",
   "metadata": {},
   "outputs": [],
   "source": [
    "df1=df.drop(columns=\"Ngày\").drop_duplicates(keep='first')\n",
    "df1[\"Ngày\"]=df.loc[df1.index][\"Ngày\"]"
   ]
  },
  {
   "cell_type": "code",
   "execution_count": null,
   "id": "380c470a",
   "metadata": {},
   "outputs": [],
   "source": [
    "df1['Quận'] = df1['Quận'].str.replace('Thị xã ', '').str.replace('Huyện ', '').str.replace('Quận ', '')\n",
    "df1['Quận'] = df1['Quận'].str.replace('Nam Từ Liêm', 'Từ Liêm').str.replace('Bắc Từ Liêm', 'Từ Liêm')"
   ]
  },
  {
   "cell_type": "code",
   "execution_count": null,
   "id": "9471834c",
   "metadata": {},
   "outputs": [],
   "source": [
    "# Bỏ cột ngày để thống kê các biến mà không bị trùng lặp\n",
    "df1=df.drop(columns=\"Ngày\").drop_duplicates(keep='first')\n",
    "df1[\"Ngày\"]=df.loc[df1.index][\"Ngày\"]"
   ]
  },
  {
   "cell_type": "markdown",
   "id": "637cf9b5",
   "metadata": {},
   "source": [
    "### 2.5. Xuất dữ liệu "
   ]
  },
  {
   "cell_type": "code",
   "execution_count": null,
   "id": "ad770b6b",
   "metadata": {},
   "outputs": [],
   "source": [
    "# CHuyển đổi cột \"Ngày\" về định dạng ngày tháng mong muốn\n",
    "df2 = df1.copy()\n",
    "df2['Ngày'] = df2['Ngày'].dt.strftime('%Y-%m-%d')"
   ]
  },
  {
   "cell_type": "code",
   "execution_count": null,
   "id": "9a78f66d",
   "metadata": {},
   "outputs": [],
   "source": [
    "# Xuất dataframe sang thư mục data\n",
    "df2.to_csv('F:\\Data Analyst\\Ha Noi Real Estate Visualization\\data\\VN_housing_dataset_cleaned.csv', index=False)"
   ]
  },
  {
   "cell_type": "markdown",
   "id": "e9c28d3a",
   "metadata": {},
   "source": [
    "## 3. Trực quan hóa với Tableau"
   ]
  },
  {
   "cell_type": "markdown",
   "id": "136c70bc",
   "metadata": {},
   "source": [
    "## 4. Thử nghiệm mô hình dự đoán với các thuật toán Machine Learning\n",
    "### 4.1. EDA"
   ]
  },
  {
   "cell_type": "code",
   "execution_count": null,
   "id": "2920f0ce",
   "metadata": {},
   "outputs": [],
   "source": []
  }
 ],
 "metadata": {
  "kernelspec": {
   "display_name": "Python 3",
   "language": "python",
   "name": "python3"
  },
  "language_info": {
   "codemirror_mode": {
    "name": "ipython",
    "version": 3
   },
   "file_extension": ".py",
   "mimetype": "text/x-python",
   "name": "python",
   "nbconvert_exporter": "python",
   "pygments_lexer": "ipython3",
   "version": "3.12.5"
  }
 },
 "nbformat": 4,
 "nbformat_minor": 5
}
